{
 "cells": [
  {
   "cell_type": "markdown",
   "metadata": {},
   "source": [
    "### Statistical Inference: Bootstrap Confidence Interval\n",
    "\n",
    "This notebook demostrates how to construct confidence interval of a statistic using the bootstrap method. We will also examine the coverage probability of CI.\n",
    "\n",
    "- Construct Bootstrap Confidence Interval\n",
    "- Check the coverage probability\n",
    "- Bootstrap CI for correlation coefficient"
   ]
  },
  {
   "cell_type": "code",
   "execution_count": 1,
   "metadata": {},
   "outputs": [],
   "source": [
    "import numpy as np\n",
    "import matplotlib.pyplot as plt"
   ]
  },
  {
   "cell_type": "code",
   "execution_count": 2,
   "metadata": {},
   "outputs": [
    {
     "data": {
      "text/plain": [
       "array([20.04837603, 31.25284426, 29.93398006, 25.61713655, 13.5503907 ,\n",
       "       25.49878444, 20.35248077, 31.51038142,  8.32313121, 19.66393583,\n",
       "       17.61347326, 16.62564633, 18.86746951, 26.16251563, 13.34781926,\n",
       "       23.19121695, 11.61700195, 11.13124794, 36.09426776, 18.05663548,\n",
       "        9.94349398, 37.48716962, 20.14559004,  9.97229743,  2.03475692,\n",
       "       30.54969641, 14.56507249, 28.36896004, 36.65606655, 20.02810189,\n",
       "       10.141344  , 27.10628831, 22.07188247, 24.84692248, -1.3261212 ,\n",
       "       13.82170342, 17.16935212,  1.86395292, 16.67269339, 23.48550858,\n",
       "       15.30715956, 13.87936844, 15.34618299, 19.07465262,  7.26095313,\n",
       "       14.16604599, 23.54688298, 25.81009889, 23.60397487, 24.71990081,\n",
       "       29.67728618, 26.613439  , 18.71653559, 26.09803616, 25.86535171,\n",
       "       35.66452474,  8.04290181, 26.74722961, 56.86598676, 27.18349189,\n",
       "       34.42831875, 14.87913466, 27.75998308, 16.58230786, 28.79498633,\n",
       "       30.17491135, 19.37373865,  3.56354925, 26.9547936 , 13.91137227,\n",
       "        8.74134238, 33.28302387, 14.10769395, 25.50369196, 23.6403158 ,\n",
       "       10.45164354, 18.43426791, 15.5497332 , 11.71832544,  2.10912426,\n",
       "       28.26254512, 23.01355589, 11.25777331, 34.02141445, 15.55812085,\n",
       "       16.35955806, 34.44572065, 19.98486442, 19.1209175 ,  9.51608846,\n",
       "       17.01193253, 24.08506932, 12.55052278, 37.00092803, 21.6707504 ,\n",
       "       22.67492952,  4.17493083, 31.9271731 , 14.91640377, 19.80647612])"
      ]
     },
     "execution_count": 2,
     "metadata": {},
     "output_type": "execute_result"
    }
   ],
   "source": [
    "#Generate some random data\n",
    "data = np.random.randn(100)*10 + 20\n",
    "\n",
    "data"
   ]
  },
  {
   "cell_type": "code",
   "execution_count": 3,
   "metadata": {},
   "outputs": [
    {
     "data": {
      "text/plain": [
       "(array([ 6., 14., 35., 25., 14.,  5.,  0.,  1.]),\n",
       " array([-1.3261212 ,  5.9478923 , 13.22190579, 20.49591929, 27.76993278,\n",
       "        35.04394628, 42.31795977, 49.59197327, 56.86598676]),\n",
       " <BarContainer object of 8 artists>)"
      ]
     },
     "execution_count": 3,
     "metadata": {},
     "output_type": "execute_result"
    },
    {
     "data": {
      "image/png": "[encoded data removed]",
      "text/plain": [
       "<Figure size 640x480 with 1 Axes>"
      ]
     },
     "metadata": {},
     "output_type": "display_data"
    }
   ],
   "source": [
    "plt.hist(data,bins=8)"
   ]
  },
  {
   "cell_type": "code",
   "execution_count": 4,
   "metadata": {},
   "outputs": [
    {
     "name": "stdout",
     "output_type": "stream",
     "text": [
      "Population mean is: 20.45575404162354\n",
      "Population variance is: 90.89902433788778\n"
     ]
    }
   ],
   "source": [
    "print(\"Population mean is:\", np.mean(data))\n",
    "\n",
    "print(\"Population variance is:\", np.var(data))"
   ]
  },
  {
   "cell_type": "code",
   "execution_count": 5,
   "metadata": {},
   "outputs": [
    {
     "data": {
      "text/plain": [
       "array([23.54688298, 31.9271731 , 23.01355589,  8.04290181, 29.67728618,\n",
       "       23.01355589, 33.28302387, 13.34781926, 19.37373865,  2.10912426,\n",
       "       30.17491135, -1.3261212 ,  1.86395292,  2.03475692, 15.5497332 ,\n",
       "       19.1209175 , 24.84692248,  8.32313121, 17.01193253, 29.93398006,\n",
       "       20.35248077, 14.10769395, 14.87913466, 26.74722961, 20.14559004,\n",
       "       11.61700195, 17.01193253, 25.86535171, 56.86598676, 29.67728618])"
      ]
     },
     "execution_count": 5,
     "metadata": {},
     "output_type": "execute_result"
    }
   ],
   "source": [
    "#One sample with 30 numbers, this is what we have in hand.\n",
    "\n",
    "sample_30 = np.random.choice(data, 30, replace=True)\n",
    "\n",
    "sample_30"
   ]
  },
  {
   "cell_type": "markdown",
   "metadata": {},
   "source": [
    "1. Construct Bootstrap CI"
   ]
  },
  {
   "cell_type": "code",
   "execution_count": 6,
   "metadata": {},
   "outputs": [],
   "source": [
    "#Define a bootstrap function:\n",
    "def bootstrap(sample):\n",
    "    \n",
    "    bootstrap_mean_list = []\n",
    "    \n",
    "    for i in range(10000):\n",
    "        #generate a re-sample with the original sample size, with replacement\n",
    "        subsample = np.random.choice(sample, len(sample), replace=True)\n",
    "        \n",
    "        #compute sub-sample mean\n",
    "        subsample_mean = np.mean(subsample)\n",
    "\n",
    "        bootstrap_mean_list.append(subsample_mean)\n",
    "    \n",
    "    #Calculatet the mean and std of the bootstrap sampling distribution\n",
    "    bootstrap_mean = np.mean(bootstrap_mean_list)\n",
    "    boostrap_std = np.std(bootstrap_mean_list)\n",
    "    \n",
    "    # mean +- 2*std for an approximate 95% CI.\n",
    "    CI = [(bootstrap_mean - 2*boostrap_std), (bootstrap_mean + 2*boostrap_std)]\n",
    "    \n",
    "    return CI,bootstrap_mean_list\n",
    "    "
   ]
  },
  {
   "cell_type": "code",
   "execution_count": 29,
   "metadata": {},
   "outputs": [],
   "source": [
    "sample_mean_list = []\n",
    "    \n",
    "for i in range(10000):\n",
    "    #generate a re-sample with the original sample size, with replacement\n",
    "    sample10 = np.random.choice(data, 30)\n",
    "        \n",
    "        #compute sub-sample mean\n",
    "    subsample_mean = np.mean(sample10)\n",
    "\n",
    "    sample_mean_list.append(subsample_mean)\n",
    "    "
   ]
  },
  {
   "cell_type": "code",
   "execution_count": 31,
   "metadata": {},
   "outputs": [
    {
     "data": {
      "text/plain": [
       "(array([  12.,  101.,  608., 1837., 3004., 2664., 1314.,  388.,   65.,\n",
       "           7.]),\n",
       " array([13.78510405, 15.16885258, 16.55260111, 17.93634964, 19.32009817,\n",
       "        20.7038467 , 22.08759523, 23.47134376, 24.85509229, 26.23884082,\n",
       "        27.62258935]),\n",
       " <BarContainer object of 10 artists>)"
      ]
     },
     "execution_count": 31,
     "metadata": {},
     "output_type": "execute_result"
    },
    {
     "data": {
      "image/png": "[encoded data removed]",
      "text/plain": [
       "<Figure size 640x480 with 1 Axes>"
      ]
     },
     "metadata": {},
     "output_type": "display_data"
    }
   ],
   "source": [
    "plt.hist(bootstrap_mean_list)\n",
    "plt.hist(sample_mean_list)\n"
   ]
  },
  {
   "cell_type": "code",
   "execution_count": 7,
   "metadata": {},
   "outputs": [],
   "source": [
    "#Do the same thing for the percentile-based method:\n",
    "def bootstrap_perc(sample):\n",
    "    \n",
    "    bootstrap_mean_list = []\n",
    "    \n",
    "    for i in range(10000):\n",
    "        #generate a re-sample with the original sample size, with replacement\n",
    "        subsample = np.random.choice(sample, len(sample), replace=True)\n",
    "        \n",
    "        #compute sample mean\n",
    "        subsample_mean = np.mean(subsample)\n",
    "\n",
    "        bootstrap_mean_list.append(subsample_mean)\n",
    "    \n",
    "    #Get the lower and upper bound for the middle 95%:\n",
    "    percentile_CI = [np.percentile(bootstrap_mean_list, 2.5), \n",
    "          np.percentile(bootstrap_mean_list, 97.5)]\n",
    "    \n",
    "    return percentile_CI,bootstrap_mean_list\n",
    "    "
   ]
  },
  {
   "cell_type": "code",
   "execution_count": 8,
   "metadata": {},
   "outputs": [],
   "source": [
    "#Define a anlytical based function:\n",
    "def anlytical(sample):    \n",
    "    sample_mean = np.mean(sample)\n",
    "    \n",
    "    err_of_margin = 2*np.std(sample)/np.sqrt(len(sample))\n",
    "    \n",
    "    # mean +- 2*std for an approximate 95% CI.\n",
    "    CI_lower = sample_mean - err_of_margin\n",
    "    CI_upper = sample_mean + err_of_margin\n",
    "    \n",
    "    CI = [CI_lower, CI_upper]\n",
    "    \n",
    "    return CI"
   ]
  },
  {
   "cell_type": "markdown",
   "metadata": {},
   "source": [
    "Compare the bootstrap vs. analytical CI:"
   ]
  },
  {
   "cell_type": "code",
   "execution_count": 9,
   "metadata": {},
   "outputs": [],
   "source": [
    "bootstrap_CI, bootstrap_mean_list = bootstrap(sample_30)\n",
    "bootstrap_CI_perc, bootstrap_mean_list_perc = bootstrap_perc(sample_30)\n",
    "analytical_CI = anlytical(sample_30)"
   ]
  },
  {
   "cell_type": "code",
   "execution_count": 10,
   "metadata": {},
   "outputs": [
    {
     "name": "stdout",
     "output_type": "stream",
     "text": [
      "95% analytical CI:  [15.458954615201204, 24.016969853357946]\n",
      "95% bootstrap CI:  [15.476395171330902, 23.944921597599354]\n",
      "95% percentile-based bootstrap CI:  [15.626758976939456, 24.051611573969733]\n"
     ]
    }
   ],
   "source": [
    "print(\"95% analytical CI: \", analytical_CI)\n",
    "print(\"95% bootstrap CI: \", bootstrap_CI)\n",
    "print(\"95% percentile-based bootstrap CI: \", bootstrap_CI_perc)"
   ]
  },
  {
   "cell_type": "code",
   "execution_count": null,
   "metadata": {},
   "outputs": [],
   "source": []
  },
  {
   "cell_type": "markdown",
   "metadata": {},
   "source": [
    "2. Testing the coverage of the 95% CI for \n",
    "- Bootstrap\n",
    "- Percentile based Bootstrap\n",
    "- Analytical"
   ]
  },
  {
   "cell_type": "code",
   "execution_count": 11,
   "metadata": {},
   "outputs": [
    {
     "name": "stdout",
     "output_type": "stream",
     "text": [
      "CPU times: user 2min 55s, sys: 3.04 s, total: 2min 58s\n",
      "Wall time: 2min 57s\n"
     ]
    }
   ],
   "source": [
    "%%time\n",
    "#generate samples for multiple times\n",
    "counter = 0\n",
    "counter_perc = 0\n",
    "true_mean = np.mean(data)\n",
    "\n",
    "for i in range(1000):\n",
    "    #generate a sample with 30 numbers\n",
    "    sample = np.random.choice(data, 30, replace=True)\n",
    "    \n",
    "    #For each sample, we compute the two CIs:\n",
    "    ci,_ = bootstrap(sample)\n",
    "    perc_ci,_ = bootstrap_perc(sample)\n",
    "    analytical_ci = anlytical(sample)\n",
    "    \n",
    "    #Check the coverage\n",
    "    if ci[0] <= true_mean <= ci[1]:\n",
    "        counter = counter + 1\n",
    "        \n",
    "    if perc_ci[0] <= true_mean <= perc_ci[1]:\n",
    "        counter_perc = counter_perc + 1"
   ]
  },
  {
   "cell_type": "code",
   "execution_count": 12,
   "metadata": {},
   "outputs": [
    {
     "name": "stdout",
     "output_type": "stream",
     "text": [
      "Number of times 95% bootstrap CI covered the population mean: 944 out of 1000\n"
     ]
    }
   ],
   "source": [
    "print(\"Number of times 95% bootstrap CI covered the population mean:\", \n",
    "      counter,\"out of 1000\")"
   ]
  },
  {
   "cell_type": "code",
   "execution_count": 13,
   "metadata": {},
   "outputs": [
    {
     "name": "stdout",
     "output_type": "stream",
     "text": [
      "Number of times 95% percentile-based bootstrap CI covered the population mean: 944 out of 1000\n"
     ]
    }
   ],
   "source": [
    "print(\"Number of times 95% percentile-based bootstrap CI covered the population mean:\", \n",
    "      counter,\"out of 1000\")"
   ]
  },
  {
   "cell_type": "code",
   "execution_count": 14,
   "metadata": {},
   "outputs": [
    {
     "name": "stdout",
     "output_type": "stream",
     "text": [
      "Number of times 95% analytical CI covered the population mean: 944 out of 1000\n"
     ]
    }
   ],
   "source": [
    "print(\"Number of times 95% analytical CI covered the population mean:\", \n",
    "      counter,\"out of 1000\")"
   ]
  },
  {
   "cell_type": "code",
   "execution_count": null,
   "metadata": {},
   "outputs": [],
   "source": []
  },
  {
   "cell_type": "code",
   "execution_count": null,
   "metadata": {},
   "outputs": [],
   "source": []
  },
  {
   "cell_type": "code",
   "execution_count": null,
   "metadata": {},
   "outputs": [],
   "source": []
  },
  {
   "cell_type": "code",
   "execution_count": null,
   "metadata": {},
   "outputs": [],
   "source": []
  },
  {
   "cell_type": "code",
   "execution_count": null,
   "metadata": {},
   "outputs": [],
   "source": []
  },
  {
   "cell_type": "code",
   "execution_count": null,
   "metadata": {},
   "outputs": [],
   "source": []
  },
  {
   "cell_type": "markdown",
   "metadata": {},
   "source": [
    "3. Bootstrap confidence interval for correlation coefficients"
   ]
  },
  {
   "cell_type": "code",
   "execution_count": 15,
   "metadata": {},
   "outputs": [],
   "source": [
    "import pandas as pd\n",
    "url = 'https://raw.githubusercontent.com/mwaskom/seaborn-data/master/mpg.csv'\n",
    "df = pd.read_csv(url)\n",
    "df = df.dropna()"
   ]
  },
  {
   "cell_type": "code",
   "execution_count": 16,
   "metadata": {},
   "outputs": [
    {
     "data": {
      "text/plain": [
       "Text(0, 0.5, 'Acceleration')"
      ]
     },
     "execution_count": 16,
     "metadata": {},
     "output_type": "execute_result"
    },
    {
     "data": {
      "image/png": "[encoded data removed]",
      "text/plain": [
       "<Figure size 640x480 with 1 Axes>"
      ]
     },
     "metadata": {},
     "output_type": "display_data"
    }
   ],
   "source": [
    "from scipy.stats import *\n",
    "\n",
    "plt.scatter(df.horsepower, df.acceleration)\n",
    "plt.xlabel(\"Horsepower\")\n",
    "plt.ylabel(\"Acceleration\")"
   ]
  },
  {
   "cell_type": "code",
   "execution_count": 17,
   "metadata": {},
   "outputs": [
    {
     "name": "stdout",
     "output_type": "stream",
     "text": [
      "Pearson: PearsonRResult(statistic=-0.6891955103342371, pvalue=1.5818862297811214e-56)\n"
     ]
    }
   ],
   "source": [
    "print(\"Pearson:\",pearsonr(df.horsepower, df.acceleration))"
   ]
  },
  {
   "cell_type": "code",
   "execution_count": null,
   "metadata": {},
   "outputs": [],
   "source": []
  },
  {
   "cell_type": "code",
   "execution_count": 18,
   "metadata": {},
   "outputs": [
    {
     "data": {
      "text/html": [
       "<div>\n",
       "<style scoped>\n",
       "    .dataframe tbody tr th:only-of-type {\n",
       "        vertical-align: middle;\n",
       "    }\n",
       "\n",
       "    .dataframe tbody tr th {\n",
       "        vertical-align: top;\n",
       "    }\n",
       "\n",
       "    .dataframe thead th {\n",
       "        text-align: right;\n",
       "    }\n",
       "</style>\n",
       "<table border=\"1\" class=\"dataframe\">\n",
       "  <thead>\n",
       "    <tr style=\"text-align: right;\">\n",
       "      <th></th>\n",
       "      <th>mpg</th>\n",
       "      <th>cylinders</th>\n",
       "      <th>displacement</th>\n",
       "      <th>horsepower</th>\n",
       "      <th>weight</th>\n",
       "      <th>acceleration</th>\n",
       "      <th>model_year</th>\n",
       "      <th>origin</th>\n",
       "      <th>name</th>\n",
       "    </tr>\n",
       "  </thead>\n",
       "  <tbody>\n",
       "    <tr>\n",
       "      <th>181</th>\n",
       "      <td>33.0</td>\n",
       "      <td>4</td>\n",
       "      <td>91.0</td>\n",
       "      <td>53.0</td>\n",
       "      <td>1795</td>\n",
       "      <td>17.5</td>\n",
       "      <td>75</td>\n",
       "      <td>japan</td>\n",
       "      <td>honda civic cvcc</td>\n",
       "    </tr>\n",
       "    <tr>\n",
       "      <th>289</th>\n",
       "      <td>16.9</td>\n",
       "      <td>8</td>\n",
       "      <td>350.0</td>\n",
       "      <td>155.0</td>\n",
       "      <td>4360</td>\n",
       "      <td>14.9</td>\n",
       "      <td>79</td>\n",
       "      <td>usa</td>\n",
       "      <td>buick estate wagon (sw)</td>\n",
       "    </tr>\n",
       "    <tr>\n",
       "      <th>227</th>\n",
       "      <td>19.0</td>\n",
       "      <td>6</td>\n",
       "      <td>225.0</td>\n",
       "      <td>100.0</td>\n",
       "      <td>3630</td>\n",
       "      <td>17.7</td>\n",
       "      <td>77</td>\n",
       "      <td>usa</td>\n",
       "      <td>plymouth volare custom</td>\n",
       "    </tr>\n",
       "    <tr>\n",
       "      <th>335</th>\n",
       "      <td>35.0</td>\n",
       "      <td>4</td>\n",
       "      <td>122.0</td>\n",
       "      <td>88.0</td>\n",
       "      <td>2500</td>\n",
       "      <td>15.1</td>\n",
       "      <td>80</td>\n",
       "      <td>europe</td>\n",
       "      <td>triumph tr7 coupe</td>\n",
       "    </tr>\n",
       "    <tr>\n",
       "      <th>26</th>\n",
       "      <td>10.0</td>\n",
       "      <td>8</td>\n",
       "      <td>307.0</td>\n",
       "      <td>200.0</td>\n",
       "      <td>4376</td>\n",
       "      <td>15.0</td>\n",
       "      <td>70</td>\n",
       "      <td>usa</td>\n",
       "      <td>chevy c20</td>\n",
       "    </tr>\n",
       "    <tr>\n",
       "      <th>...</th>\n",
       "      <td>...</td>\n",
       "      <td>...</td>\n",
       "      <td>...</td>\n",
       "      <td>...</td>\n",
       "      <td>...</td>\n",
       "      <td>...</td>\n",
       "      <td>...</td>\n",
       "      <td>...</td>\n",
       "      <td>...</td>\n",
       "    </tr>\n",
       "    <tr>\n",
       "      <th>144</th>\n",
       "      <td>31.0</td>\n",
       "      <td>4</td>\n",
       "      <td>76.0</td>\n",
       "      <td>52.0</td>\n",
       "      <td>1649</td>\n",
       "      <td>16.5</td>\n",
       "      <td>74</td>\n",
       "      <td>japan</td>\n",
       "      <td>toyota corona</td>\n",
       "    </tr>\n",
       "    <tr>\n",
       "      <th>27</th>\n",
       "      <td>11.0</td>\n",
       "      <td>8</td>\n",
       "      <td>318.0</td>\n",
       "      <td>210.0</td>\n",
       "      <td>4382</td>\n",
       "      <td>13.5</td>\n",
       "      <td>70</td>\n",
       "      <td>usa</td>\n",
       "      <td>dodge d200</td>\n",
       "    </tr>\n",
       "    <tr>\n",
       "      <th>349</th>\n",
       "      <td>34.1</td>\n",
       "      <td>4</td>\n",
       "      <td>91.0</td>\n",
       "      <td>68.0</td>\n",
       "      <td>1985</td>\n",
       "      <td>16.0</td>\n",
       "      <td>81</td>\n",
       "      <td>japan</td>\n",
       "      <td>mazda glc 4</td>\n",
       "    </tr>\n",
       "    <tr>\n",
       "      <th>18</th>\n",
       "      <td>27.0</td>\n",
       "      <td>4</td>\n",
       "      <td>97.0</td>\n",
       "      <td>88.0</td>\n",
       "      <td>2130</td>\n",
       "      <td>14.5</td>\n",
       "      <td>70</td>\n",
       "      <td>japan</td>\n",
       "      <td>datsun pl510</td>\n",
       "    </tr>\n",
       "    <tr>\n",
       "      <th>137</th>\n",
       "      <td>13.0</td>\n",
       "      <td>8</td>\n",
       "      <td>350.0</td>\n",
       "      <td>150.0</td>\n",
       "      <td>4699</td>\n",
       "      <td>14.5</td>\n",
       "      <td>74</td>\n",
       "      <td>usa</td>\n",
       "      <td>buick century luxus (sw)</td>\n",
       "    </tr>\n",
       "  </tbody>\n",
       "</table>\n",
       "<p>118 rows × 9 columns</p>\n",
       "</div>"
      ],
      "text/plain": [
       "      mpg  cylinders  displacement  horsepower  weight  acceleration  \\\n",
       "181  33.0          4          91.0        53.0    1795          17.5   \n",
       "289  16.9          8         350.0       155.0    4360          14.9   \n",
       "227  19.0          6         225.0       100.0    3630          17.7   \n",
       "335  35.0          4         122.0        88.0    2500          15.1   \n",
       "26   10.0          8         307.0       200.0    4376          15.0   \n",
       "..    ...        ...           ...         ...     ...           ...   \n",
       "144  31.0          4          76.0        52.0    1649          16.5   \n",
       "27   11.0          8         318.0       210.0    4382          13.5   \n",
       "349  34.1          4          91.0        68.0    1985          16.0   \n",
       "18   27.0          4          97.0        88.0    2130          14.5   \n",
       "137  13.0          8         350.0       150.0    4699          14.5   \n",
       "\n",
       "     model_year  origin                      name  \n",
       "181          75   japan          honda civic cvcc  \n",
       "289          79     usa   buick estate wagon (sw)  \n",
       "227          77     usa    plymouth volare custom  \n",
       "335          80  europe         triumph tr7 coupe  \n",
       "26           70     usa                 chevy c20  \n",
       "..          ...     ...                       ...  \n",
       "144          74   japan             toyota corona  \n",
       "27           70     usa                dodge d200  \n",
       "349          81   japan               mazda glc 4  \n",
       "18           70   japan              datsun pl510  \n",
       "137          74     usa  buick century luxus (sw)  \n",
       "\n",
       "[118 rows x 9 columns]"
      ]
     },
     "execution_count": 18,
     "metadata": {},
     "output_type": "execute_result"
    }
   ],
   "source": [
    "sample_car = df.sample(frac=0.3,replace=True)\n",
    "sample_car"
   ]
  },
  {
   "cell_type": "code",
   "execution_count": 19,
   "metadata": {},
   "outputs": [
    {
     "name": "stdout",
     "output_type": "stream",
     "text": [
      "Pearson: PearsonRResult(statistic=-0.6520334620459914, pvalue=1.270363720648511e-15)\n"
     ]
    }
   ],
   "source": [
    "print(\"Pearson:\",pearsonr(sample_car.horsepower, sample_car.acceleration))"
   ]
  },
  {
   "cell_type": "code",
   "execution_count": 20,
   "metadata": {},
   "outputs": [],
   "source": [
    "#Define a bootstrap function:\n",
    "np.random.seed(222)\n",
    "def bootstrap_pearson(sample_car):\n",
    "    \n",
    "    bootstrap_cor_list = []\n",
    "    \n",
    "    for i in range(10000):\n",
    "        #generate a re-sample with the original sample size, with replacement\n",
    "        subsample = sample_car.sample(len(sample), replace=True)\n",
    "        \n",
    "        #compute correlation\n",
    "        sample_cor = pearsonr(subsample.horsepower, subsample.acceleration)[0]\n",
    "\n",
    "        bootstrap_cor_list.append(sample_cor)\n",
    "    \n",
    "    #Get the lower and upper bound for the middle 95%:\n",
    "    percentile_CI = [np.percentile(bootstrap_cor_list, 2.5), \n",
    "          np.percentile(bootstrap_cor_list, 97.5)]\n",
    "    \n",
    "    return percentile_CI\n",
    "    "
   ]
  },
  {
   "cell_type": "code",
   "execution_count": 21,
   "metadata": {},
   "outputs": [
    {
     "data": {
      "text/plain": [
       "[-0.8173989100096165, -0.43221063281055677]"
      ]
     },
     "execution_count": 21,
     "metadata": {},
     "output_type": "execute_result"
    }
   ],
   "source": [
    "bootstrap_pearson(sample_car)"
   ]
  },
  {
   "cell_type": "code",
   "execution_count": 22,
   "metadata": {},
   "outputs": [
    {
     "name": "stdout",
     "output_type": "stream",
     "text": [
      "95% confidence interval of the Pearson correlation coefficient is: [-0.86 to -0.29]\n"
     ]
    }
   ],
   "source": [
    "print(\"95% confidence interval of the Pearson correlation coefficient is:\",\n",
    "     \"[-0.86 to -0.29]\")\n"
   ]
  },
  {
   "cell_type": "markdown",
   "metadata": {},
   "source": [
    "We are 95% confident that the true correlation of HP and ACC in the population is between -0.86 to -0.29."
   ]
  },
  {
   "cell_type": "markdown",
   "metadata": {},
   "source": [
    "In this case, the CI doesn't cover 0, which means population correlation coefficient is not zero. So the negative trend we observe from the sample isn't just becuase of the sampling variation but because the true correlation is negative in the population."
   ]
  },
  {
   "cell_type": "code",
   "execution_count": null,
   "metadata": {},
   "outputs": [],
   "source": []
  }
 ],
 "metadata": {
  "kernelspec": {
   "display_name": "Python 3 (ipykernel)",
   "language": "python",
   "name": "python3"
  },
  "language_info": {
   "codemirror_mode": {
    "name": "ipython",
    "version": 3
   },
   "file_extension": ".py",
   "mimetype": "text/x-python",
   "name": "python",
   "nbconvert_exporter": "python",
   "pygments_lexer": "ipython3",
   "version": "3.11.5"
  }
 },
 "nbformat": 4,
 "nbformat_minor": 4
}
