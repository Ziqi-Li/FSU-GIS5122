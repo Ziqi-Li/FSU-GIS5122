{
 "cells": [
  {
   "cell_type": "markdown",
   "metadata": {},
   "source": [
    "### Statistical Inference: Bootstrap Confidence Interval\n",
    "\n",
    "This notebook demostrates how to construct confidence interval of a statistic using the bootstrap method. We will also examine the coverage probability of CI.\n",
    "\n",
    "- Construct Bootstrap Confidence Interval\n",
    "- Check the coverage probability\n",
    "- Bootstrap CI for correlation coefficient"
   ]
  },
  {
   "cell_type": "code",
   "execution_count": 1,
   "metadata": {},
   "outputs": [],
   "source": [
    "import numpy as np\n",
    "import matplotlib.pyplot as plt"
   ]
  },
  {
   "cell_type": "code",
   "execution_count": 2,
   "metadata": {},
   "outputs": [
    {
     "data": {
      "text/plain": [
       "array([  6.49345354,  16.2917549 ,  28.96236773,  21.63507173,\n",
       "        -5.18999931,  13.66138119,  29.21145209,  20.67183974,\n",
       "        24.23723736,  10.67874227,  23.67447748,   1.05858892,\n",
       "        24.91469876,  17.19994479,   5.33643462,  18.80870052,\n",
       "        19.67448813,  11.50849042,  15.90525146,   2.22622866,\n",
       "       -13.17775145,  28.18059466,  36.75099692,  16.55832237,\n",
       "        20.13874364,  18.66201657,  27.99927305,  39.5392999 ,\n",
       "         8.4423917 ,  15.5475158 ,  20.33908299,  15.402896  ,\n",
       "        10.94553807,  36.60447374,  30.56434038,  15.34886899,\n",
       "        11.50297955,  38.69393965,  34.53061645,  22.77143643,\n",
       "        24.19034117,  15.92871683,  25.55701847,  19.69998117,\n",
       "        20.65861165,  18.43909667,  21.38532365,  16.19102389,\n",
       "        20.9146312 ,  17.29854453,  15.08160924,  23.73462512,\n",
       "        41.74453004,  15.0332867 ,  15.66532488,   6.63187191,\n",
       "        20.35685233,  26.32939195,  17.22036346,   7.69599586,\n",
       "        25.70251224,  -0.31234785,  21.05947923,  29.94373188,\n",
       "        16.02023986,  31.98416581,  17.44319474,  24.61800701,\n",
       "        10.89406122,  11.19828904,  20.93593203,   7.42937033,\n",
       "        10.49156276,  23.98697451,  30.85268266,   4.83230663,\n",
       "        43.4088417 ,   9.87494342,  16.6360142 ,  30.73545276,\n",
       "        11.04179649,   8.4405761 ,  24.42318687,  26.86886084,\n",
       "        10.75303734,  20.52166408,  30.10649311,  29.1162814 ,\n",
       "        24.47018355,   5.55512432,  21.84017785,   5.0187    ,\n",
       "        38.07219291,  12.17947458,  14.54873267,  12.24625918,\n",
       "        29.67148256,  23.84069715,  17.09681711,  37.81311363])"
      ]
     },
     "execution_count": 2,
     "metadata": {},
     "output_type": "execute_result"
    }
   ],
   "source": [
    "#Generate some random data\n",
    "data = np.random.randn(100)*10 + 20\n",
    "\n",
    "data"
   ]
  },
  {
   "cell_type": "code",
   "execution_count": 3,
   "metadata": {},
   "outputs": [
    {
     "data": {
      "text/plain": [
       "(array([ 1.,  2., 10., 18., 33., 20.,  8.,  8.]),\n",
       " array([-13.17775145,  -6.10442731,   0.96889684,   8.04222098,\n",
       "         15.11554512,  22.18886927,  29.26219341,  36.33551755,\n",
       "         43.4088417 ]),\n",
       " <BarContainer object of 8 artists>)"
      ]
     },
     "execution_count": 3,
     "metadata": {},
     "output_type": "execute_result"
    },
    {
     "data": {
      "image/png": "[encoded data removed]",
      "text/plain": [
       "<Figure size 640x480 with 1 Axes>"
      ]
     },
     "metadata": {},
     "output_type": "display_data"
    }
   ],
   "source": [
    "plt.hist(data,bins=8)"
   ]
  },
  {
   "cell_type": "code",
   "execution_count": 4,
   "metadata": {},
   "outputs": [
    {
     "name": "stdout",
     "output_type": "stream",
     "text": [
      "Population mean is: 19.2342358703266\n",
      "Population variance is: 105.52380453930147\n"
     ]
    }
   ],
   "source": [
    "print(\"Population mean is:\", np.mean(data))\n",
    "\n",
    "print(\"Population variance is:\", np.var(data))"
   ]
  },
  {
   "cell_type": "code",
   "execution_count": 5,
   "metadata": {},
   "outputs": [
    {
     "data": {
      "text/plain": [
       "array([ 11.19828904,  11.19828904,  16.6360142 ,  16.02023986,\n",
       "        16.02023986, -13.17775145,  28.96236773,  34.53061645,\n",
       "        18.43909667,  21.05947923,  43.4088417 ,   6.49345354,\n",
       "        36.60447374,  11.19828904,   8.4423917 ,  16.6360142 ,\n",
       "        10.94553807,  11.04179649,  16.6360142 ,  18.43909667,\n",
       "        17.09681711,  39.5392999 ,  21.63507173,  18.80870052,\n",
       "        25.55701847,  16.2917549 ,  15.0332867 ,  15.92871683,\n",
       "        26.86886084,  27.99927305])"
      ]
     },
     "execution_count": 5,
     "metadata": {},
     "output_type": "execute_result"
    }
   ],
   "source": [
    "#One sample with 30 numbers, this is what we have in hand.\n",
    "\n",
    "sample_30 = np.random.choice(data, 30, replace=True)\n",
    "\n",
    "sample_30"
   ]
  },
  {
   "cell_type": "markdown",
   "metadata": {},
   "source": [
    "1. Construct Bootstrap CI"
   ]
  },
  {
   "cell_type": "code",
   "execution_count": 6,
   "metadata": {},
   "outputs": [],
   "source": [
    "#Define a bootstrap function:\n",
    "def bootstrap(sample):\n",
    "    \n",
    "    bootstrap_mean_list = []\n",
    "    \n",
    "    for i in range(10000):\n",
    "        #generate a re-sample with the original sample size, with replacement\n",
    "        subsample = np.random.choice(sample, len(sample), replace=True)\n",
    "        \n",
    "        #compute sub-sample mean\n",
    "        subsample_mean = np.mean(subsample)\n",
    "\n",
    "        bootstrap_mean_list.append(subsample_mean)\n",
    "    \n",
    "    #Calculatet the mean and std of the bootstrap sampling distribution\n",
    "    bootstrap_mean = np.mean(bootstrap_mean_list)\n",
    "    boostrap_std = np.std(bootstrap_mean_list)\n",
    "    \n",
    "    # mean +- 2*std for an approximate 95% CI.\n",
    "    CI = [(bootstrap_mean - 2*boostrap_std), (bootstrap_mean + 2*boostrap_std)]\n",
    "    \n",
    "    return CI,bootstrap_mean_list\n",
    "    "
   ]
  },
  {
   "cell_type": "code",
   "execution_count": null,
   "metadata": {},
   "outputs": [],
   "source": []
  },
  {
   "cell_type": "code",
   "execution_count": 7,
   "metadata": {},
   "outputs": [],
   "source": [
    "#Do the same thing for the percentile-based method:\n",
    "def bootstrap_perc(sample):\n",
    "    \n",
    "    bootstrap_mean_list = []\n",
    "    \n",
    "    for i in range(10000):\n",
    "        #generate a re-sample with the original sample size, with replacement\n",
    "        subsample = np.random.choice(sample, len(sample), replace=True)\n",
    "        \n",
    "        #compute sample mean\n",
    "        subsample_mean = np.mean(subsample)\n",
    "\n",
    "        bootstrap_mean_list.append(subsample_mean)\n",
    "    \n",
    "    #Get the lower and upper bound for the middle 95%:\n",
    "    percentile_CI = [np.percentile(bootstrap_mean_list, 2.5), \n",
    "          np.percentile(bootstrap_mean_list, 97.5)]\n",
    "    \n",
    "    return percentile_CI,bootstrap_mean_list\n",
    "    "
   ]
  },
  {
   "cell_type": "code",
   "execution_count": 8,
   "metadata": {},
   "outputs": [],
   "source": [
    "#Define a anlytical based function:\n",
    "def anlytical(sample):\n",
    "    \n",
    "    sample_mean = np.mean(sample)\n",
    "    \n",
    "    err_of_margin = 2*np.std(sample)/np.sqrt(len(sample))\n",
    "    \n",
    "    # mean +- 2*std for an approximate 95% CI.\n",
    "    CI_lower = sample_mean - err_of_margin\n",
    "    CI_upper = sample_mean + err_of_margin\n",
    "    \n",
    "    CI = [CI_lower, CI_upper]\n",
    "    \n",
    "    return CI"
   ]
  },
  {
   "cell_type": "markdown",
   "metadata": {},
   "source": [
    "Compare the bootstrap vs. analytical CI:"
   ]
  },
  {
   "cell_type": "code",
   "execution_count": 9,
   "metadata": {},
   "outputs": [],
   "source": [
    "bootstrap_CI, bootstrap_mean_list = bootstrap(sample_30)\n",
    "bootstrap_CI_perc, bootstrap_mean_list_perc = bootstrap_perc(sample_30)\n",
    "analytical_CI = anlytical(sample_30)"
   ]
  },
  {
   "cell_type": "code",
   "execution_count": 10,
   "metadata": {},
   "outputs": [
    {
     "name": "stdout",
     "output_type": "stream",
     "text": [
      "95% analytical CI:  [14.877687507624412, 22.821751828552625]\n",
      "95% bootstrap CI:  [14.93378583607333, 22.827402040573784]\n",
      "95% percentile-based bootstrap CI:  [14.976278612590361, 22.79135600148052]\n"
     ]
    }
   ],
   "source": [
    "print(\"95% analytical CI: \", analytical_CI)\n",
    "print(\"95% bootstrap CI: \", bootstrap_CI)\n",
    "print(\"95% percentile-based bootstrap CI: \", bootstrap_CI_perc)"
   ]
  },
  {
   "cell_type": "markdown",
   "metadata": {},
   "source": [
    "2. Testing the coverage of the 95% CI for \n",
    "- Bootstrap\n",
    "- Percentile based Bootstrap\n",
    "- Analytical"
   ]
  },
  {
   "cell_type": "code",
   "execution_count": 11,
   "metadata": {},
   "outputs": [
    {
     "name": "stdout",
     "output_type": "stream",
     "text": [
      "CPU times: user 2min 51s, sys: 2.23 s, total: 2min 54s\n",
      "Wall time: 2min 52s\n"
     ]
    }
   ],
   "source": [
    "%%time\n",
    "#generate samples for multiple times\n",
    "counter = 0\n",
    "counter_perc = 0\n",
    "true_mean = np.mean(data)\n",
    "\n",
    "for i in range(1000):\n",
    "    #generate a sample with 30 numbers\n",
    "    sample = np.random.choice(data, 30, replace=True)\n",
    "    \n",
    "    #For each sample, we compute the two CIs:\n",
    "    ci,_ = bootstrap(sample)\n",
    "    perc_ci,_ = bootstrap_perc(sample)\n",
    "    analytical_ci = anlytical(sample)\n",
    "    \n",
    "    #Check the coverage\n",
    "    if ci[0] <= true_mean <= ci[1]:\n",
    "        counter = counter + 1\n",
    "        \n",
    "    if perc_ci[0] <= true_mean <= perc_ci[1]:\n",
    "        counter_perc = counter_perc + 1"
   ]
  },
  {
   "cell_type": "code",
   "execution_count": 12,
   "metadata": {},
   "outputs": [
    {
     "name": "stdout",
     "output_type": "stream",
     "text": [
      "Number of times 95% bootstrap CI covered the population mean: 937 out of 1000\n"
     ]
    }
   ],
   "source": [
    "print(\"Number of times 95% bootstrap CI covered the population mean:\", \n",
    "      counter,\"out of 1000\")"
   ]
  },
  {
   "cell_type": "code",
   "execution_count": 13,
   "metadata": {},
   "outputs": [
    {
     "name": "stdout",
     "output_type": "stream",
     "text": [
      "Number of times 95% percentile-based bootstrap CI covered the population mean: 937 out of 1000\n"
     ]
    }
   ],
   "source": [
    "print(\"Number of times 95% percentile-based bootstrap CI covered the population mean:\", \n",
    "      counter,\"out of 1000\")"
   ]
  },
  {
   "cell_type": "code",
   "execution_count": 14,
   "metadata": {},
   "outputs": [
    {
     "name": "stdout",
     "output_type": "stream",
     "text": [
      "Number of times 95% analytical CI covered the population mean: 937 out of 1000\n"
     ]
    }
   ],
   "source": [
    "print(\"Number of times 95% analytical CI covered the population mean:\", \n",
    "      counter,\"out of 1000\")"
   ]
  },
  {
   "cell_type": "code",
   "execution_count": null,
   "metadata": {},
   "outputs": [],
   "source": []
  },
  {
   "cell_type": "code",
   "execution_count": null,
   "metadata": {},
   "outputs": [],
   "source": []
  },
  {
   "cell_type": "code",
   "execution_count": null,
   "metadata": {},
   "outputs": [],
   "source": []
  },
  {
   "cell_type": "code",
   "execution_count": null,
   "metadata": {},
   "outputs": [],
   "source": []
  },
  {
   "cell_type": "code",
   "execution_count": null,
   "metadata": {},
   "outputs": [],
   "source": []
  },
  {
   "cell_type": "markdown",
   "metadata": {},
   "source": [
    "3. Bootstrap confidence interval for correlation coefficients"
   ]
  },
  {
   "cell_type": "code",
   "execution_count": 15,
   "metadata": {},
   "outputs": [],
   "source": [
    "import pandas as pd\n",
    "url = 'https://raw.githubusercontent.com/mwaskom/seaborn-data/master/mpg.csv'\n",
    "df = pd.read_csv(url)\n",
    "df = df.dropna()"
   ]
  },
  {
   "cell_type": "code",
   "execution_count": 16,
   "metadata": {},
   "outputs": [
    {
     "data": {
      "text/plain": [
       "Text(0, 0.5, 'Acceleration')"
      ]
     },
     "execution_count": 16,
     "metadata": {},
     "output_type": "execute_result"
    },
    {
     "data": {
      "image/png": "[encoded data removed]",
      "text/plain": [
       "<Figure size 640x480 with 1 Axes>"
      ]
     },
     "metadata": {},
     "output_type": "display_data"
    }
   ],
   "source": [
    "from scipy.stats import *\n",
    "\n",
    "plt.scatter(df.horsepower, df.acceleration)\n",
    "plt.xlabel(\"Horsepower\")\n",
    "plt.ylabel(\"Acceleration\")"
   ]
  },
  {
   "cell_type": "code",
   "execution_count": 17,
   "metadata": {},
   "outputs": [
    {
     "name": "stdout",
     "output_type": "stream",
     "text": [
      "Pearson: PearsonRResult(statistic=-0.6891955103342371, pvalue=1.5818862297811214e-56)\n"
     ]
    }
   ],
   "source": [
    "print(\"Pearson:\",pearsonr(df.horsepower, df.acceleration))"
   ]
  },
  {
   "cell_type": "code",
   "execution_count": null,
   "metadata": {},
   "outputs": [],
   "source": []
  },
  {
   "cell_type": "code",
   "execution_count": 18,
   "metadata": {},
   "outputs": [
    {
     "data": {
      "text/html": [
       "<div>\n",
       "<style scoped>\n",
       "    .dataframe tbody tr th:only-of-type {\n",
       "        vertical-align: middle;\n",
       "    }\n",
       "\n",
       "    .dataframe tbody tr th {\n",
       "        vertical-align: top;\n",
       "    }\n",
       "\n",
       "    .dataframe thead th {\n",
       "        text-align: right;\n",
       "    }\n",
       "</style>\n",
       "<table border=\"1\" class=\"dataframe\">\n",
       "  <thead>\n",
       "    <tr style=\"text-align: right;\">\n",
       "      <th></th>\n",
       "      <th>mpg</th>\n",
       "      <th>cylinders</th>\n",
       "      <th>displacement</th>\n",
       "      <th>horsepower</th>\n",
       "      <th>weight</th>\n",
       "      <th>acceleration</th>\n",
       "      <th>model_year</th>\n",
       "      <th>origin</th>\n",
       "      <th>name</th>\n",
       "    </tr>\n",
       "  </thead>\n",
       "  <tbody>\n",
       "    <tr>\n",
       "      <th>12</th>\n",
       "      <td>15.0</td>\n",
       "      <td>8</td>\n",
       "      <td>400.0</td>\n",
       "      <td>150.0</td>\n",
       "      <td>3761</td>\n",
       "      <td>9.5</td>\n",
       "      <td>70</td>\n",
       "      <td>usa</td>\n",
       "      <td>chevrolet monte carlo</td>\n",
       "    </tr>\n",
       "    <tr>\n",
       "      <th>358</th>\n",
       "      <td>31.6</td>\n",
       "      <td>4</td>\n",
       "      <td>120.0</td>\n",
       "      <td>74.0</td>\n",
       "      <td>2635</td>\n",
       "      <td>18.3</td>\n",
       "      <td>81</td>\n",
       "      <td>japan</td>\n",
       "      <td>mazda 626</td>\n",
       "    </tr>\n",
       "    <tr>\n",
       "      <th>45</th>\n",
       "      <td>18.0</td>\n",
       "      <td>6</td>\n",
       "      <td>258.0</td>\n",
       "      <td>110.0</td>\n",
       "      <td>2962</td>\n",
       "      <td>13.5</td>\n",
       "      <td>71</td>\n",
       "      <td>usa</td>\n",
       "      <td>amc hornet sportabout (sw)</td>\n",
       "    </tr>\n",
       "    <tr>\n",
       "      <th>149</th>\n",
       "      <td>24.0</td>\n",
       "      <td>4</td>\n",
       "      <td>120.0</td>\n",
       "      <td>97.0</td>\n",
       "      <td>2489</td>\n",
       "      <td>15.0</td>\n",
       "      <td>74</td>\n",
       "      <td>japan</td>\n",
       "      <td>honda civic</td>\n",
       "    </tr>\n",
       "    <tr>\n",
       "      <th>229</th>\n",
       "      <td>16.0</td>\n",
       "      <td>8</td>\n",
       "      <td>400.0</td>\n",
       "      <td>180.0</td>\n",
       "      <td>4220</td>\n",
       "      <td>11.1</td>\n",
       "      <td>77</td>\n",
       "      <td>usa</td>\n",
       "      <td>pontiac grand prix lj</td>\n",
       "    </tr>\n",
       "    <tr>\n",
       "      <th>...</th>\n",
       "      <td>...</td>\n",
       "      <td>...</td>\n",
       "      <td>...</td>\n",
       "      <td>...</td>\n",
       "      <td>...</td>\n",
       "      <td>...</td>\n",
       "      <td>...</td>\n",
       "      <td>...</td>\n",
       "      <td>...</td>\n",
       "    </tr>\n",
       "    <tr>\n",
       "      <th>220</th>\n",
       "      <td>33.5</td>\n",
       "      <td>4</td>\n",
       "      <td>85.0</td>\n",
       "      <td>70.0</td>\n",
       "      <td>1945</td>\n",
       "      <td>16.8</td>\n",
       "      <td>77</td>\n",
       "      <td>japan</td>\n",
       "      <td>datsun f-10 hatchback</td>\n",
       "    </tr>\n",
       "    <tr>\n",
       "      <th>30</th>\n",
       "      <td>28.0</td>\n",
       "      <td>4</td>\n",
       "      <td>140.0</td>\n",
       "      <td>90.0</td>\n",
       "      <td>2264</td>\n",
       "      <td>15.5</td>\n",
       "      <td>71</td>\n",
       "      <td>usa</td>\n",
       "      <td>chevrolet vega 2300</td>\n",
       "    </tr>\n",
       "    <tr>\n",
       "      <th>364</th>\n",
       "      <td>26.6</td>\n",
       "      <td>8</td>\n",
       "      <td>350.0</td>\n",
       "      <td>105.0</td>\n",
       "      <td>3725</td>\n",
       "      <td>19.0</td>\n",
       "      <td>81</td>\n",
       "      <td>usa</td>\n",
       "      <td>oldsmobile cutlass ls</td>\n",
       "    </tr>\n",
       "    <tr>\n",
       "      <th>153</th>\n",
       "      <td>18.0</td>\n",
       "      <td>6</td>\n",
       "      <td>250.0</td>\n",
       "      <td>105.0</td>\n",
       "      <td>3459</td>\n",
       "      <td>16.0</td>\n",
       "      <td>75</td>\n",
       "      <td>usa</td>\n",
       "      <td>chevrolet nova</td>\n",
       "    </tr>\n",
       "    <tr>\n",
       "      <th>93</th>\n",
       "      <td>14.0</td>\n",
       "      <td>8</td>\n",
       "      <td>318.0</td>\n",
       "      <td>150.0</td>\n",
       "      <td>4237</td>\n",
       "      <td>14.5</td>\n",
       "      <td>73</td>\n",
       "      <td>usa</td>\n",
       "      <td>plymouth fury gran sedan</td>\n",
       "    </tr>\n",
       "  </tbody>\n",
       "</table>\n",
       "<p>118 rows × 9 columns</p>\n",
       "</div>"
      ],
      "text/plain": [
       "      mpg  cylinders  displacement  horsepower  weight  acceleration  \\\n",
       "12   15.0          8         400.0       150.0    3761           9.5   \n",
       "358  31.6          4         120.0        74.0    2635          18.3   \n",
       "45   18.0          6         258.0       110.0    2962          13.5   \n",
       "149  24.0          4         120.0        97.0    2489          15.0   \n",
       "229  16.0          8         400.0       180.0    4220          11.1   \n",
       "..    ...        ...           ...         ...     ...           ...   \n",
       "220  33.5          4          85.0        70.0    1945          16.8   \n",
       "30   28.0          4         140.0        90.0    2264          15.5   \n",
       "364  26.6          8         350.0       105.0    3725          19.0   \n",
       "153  18.0          6         250.0       105.0    3459          16.0   \n",
       "93   14.0          8         318.0       150.0    4237          14.5   \n",
       "\n",
       "     model_year origin                        name  \n",
       "12           70    usa       chevrolet monte carlo  \n",
       "358          81  japan                   mazda 626  \n",
       "45           71    usa  amc hornet sportabout (sw)  \n",
       "149          74  japan                 honda civic  \n",
       "229          77    usa       pontiac grand prix lj  \n",
       "..          ...    ...                         ...  \n",
       "220          77  japan       datsun f-10 hatchback  \n",
       "30           71    usa         chevrolet vega 2300  \n",
       "364          81    usa       oldsmobile cutlass ls  \n",
       "153          75    usa              chevrolet nova  \n",
       "93           73    usa    plymouth fury gran sedan  \n",
       "\n",
       "[118 rows x 9 columns]"
      ]
     },
     "execution_count": 18,
     "metadata": {},
     "output_type": "execute_result"
    }
   ],
   "source": [
    "sample_car = df.sample(frac=0.3,replace=True)\n",
    "sample_car"
   ]
  },
  {
   "cell_type": "code",
   "execution_count": 19,
   "metadata": {},
   "outputs": [
    {
     "name": "stdout",
     "output_type": "stream",
     "text": [
      "Pearson: PearsonRResult(statistic=-0.7614147345745806, pvalue=1.4054944159442697e-23)\n"
     ]
    }
   ],
   "source": [
    "print(\"Pearson:\",pearsonr(sample_car.horsepower, sample_car.acceleration))"
   ]
  },
  {
   "cell_type": "code",
   "execution_count": 20,
   "metadata": {},
   "outputs": [],
   "source": [
    "#Define a bootstrap function:\n",
    "np.random.seed(222)\n",
    "def bootstrap_pearson(sample_car):\n",
    "    \n",
    "    bootstrap_cor_list = []\n",
    "    \n",
    "    for i in range(10000):\n",
    "        #generate a re-sample with the original sample size, with replacement\n",
    "        subsample = sample_car.sample(len(sample), replace=True)\n",
    "        \n",
    "        #compute correlation\n",
    "        sample_cor = pearsonr(subsample.horsepower, subsample.acceleration)[0]\n",
    "\n",
    "        bootstrap_cor_list.append(sample_cor)\n",
    "    \n",
    "    #Get the lower and upper bound for the middle 95%:\n",
    "    percentile_CI = [np.percentile(bootstrap_cor_list, 2.5), \n",
    "          np.percentile(bootstrap_cor_list, 97.5)]\n",
    "    \n",
    "    return percentile_CI\n",
    "    "
   ]
  },
  {
   "cell_type": "code",
   "execution_count": 21,
   "metadata": {},
   "outputs": [
    {
     "data": {
      "text/plain": [
       "[-0.8866511972666304, -0.5777308630569709]"
      ]
     },
     "execution_count": 21,
     "metadata": {},
     "output_type": "execute_result"
    }
   ],
   "source": [
    "bootstrap_pearson(sample_car)"
   ]
  },
  {
   "cell_type": "code",
   "execution_count": 22,
   "metadata": {},
   "outputs": [
    {
     "name": "stdout",
     "output_type": "stream",
     "text": [
      "95% confidence interval of the Pearson correlation coefficient is: [-0.877 to -0.530]\n"
     ]
    }
   ],
   "source": [
    "print(\"95% confidence interval of the Pearson correlation coefficient is:\",\n",
    "     \"[-0.877 to -0.530]\")\n"
   ]
  },
  {
   "cell_type": "markdown",
   "metadata": {},
   "source": [
    "We are 95% confident that the true correlation of HP and ACC in the population is between -0.877 to -0.530."
   ]
  },
  {
   "cell_type": "markdown",
   "metadata": {},
   "source": [
    "In this case, the CI doesn't cover 0, which means population correlation coefficient is not zero. So the negative trend we observe from the sample isn't just becuase of the sampling variation but because the true correlation is negative in the population."
   ]
  },
  {
   "cell_type": "code",
   "execution_count": null,
   "metadata": {},
   "outputs": [],
   "source": []
  },
  {
   "cell_type": "code",
   "execution_count": null,
   "metadata": {},
   "outputs": [],
   "source": []
  }
 ],
 "metadata": {
  "kernelspec": {
   "display_name": "Python 3 (ipykernel)",
   "language": "python",
   "name": "python3"
  },
  "language_info": {
   "codemirror_mode": {
    "name": "ipython",
    "version": 3
   },
   "file_extension": ".py",
   "mimetype": "text/x-python",
   "name": "python",
   "nbconvert_exporter": "python",
   "pygments_lexer": "ipython3",
   "version": "3.11.5"
  }
 },
 "nbformat": 4,
 "nbformat_minor": 4
}
