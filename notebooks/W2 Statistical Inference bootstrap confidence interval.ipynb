{
 "cells": [
  {
   "cell_type": "markdown",
   "metadata": {},
   "source": [
    "### Statistical Inference: Bootstrap Confidence Interval\n",
    "\n",
    "This notebook demostrates how to construct confidence interval of a statistic using the bootstrap method. We will also examine the coverage probability of CI.\n",
    "\n",
    "- Construct Bootstrap Confidence Interval\n",
    "- Check the coverage probability\n",
    "- Bootstrap CI for correlation coefficient"
   ]
  },
  {
   "cell_type": "code",
   "execution_count": 1,
   "metadata": {},
   "outputs": [],
   "source": [
    "import numpy as np\n",
    "import matplotlib.pyplot as plt"
   ]
  },
  {
   "cell_type": "code",
   "execution_count": 2,
   "metadata": {},
   "outputs": [
    {
     "data": {
      "text/plain": [
       "array([34.70890112, 16.0039299 , 11.57058643, 26.34173755, 21.8889109 ,\n",
       "       29.21628919, 38.58664286, 13.09860582, 16.32128487, 17.76339625,\n",
       "       16.63251066, 13.86942519, 23.27189214,  3.80830187,  8.70477321,\n",
       "       34.02671471, 20.17769776, 23.14630536, 16.14255265,  4.49961821,\n",
       "       11.21447575,  9.26541136, 26.10482085, 14.3116868 , 20.36325505,\n",
       "       17.0617248 ,  9.1011571 , 37.15774513, 10.60375509, 14.04671377,\n",
       "       16.434599  , 21.87696751, 10.08654252, -0.796366  , 20.10543813,\n",
       "        6.42187015, 37.78398136, 15.28662573, 39.59350947, 25.61120726,\n",
       "       17.31851672, 30.68108547, 28.37672879, 12.41383935,  9.97752466,\n",
       "       28.16808936, 24.12376543, 14.36243251, 15.27902212,  2.14753361,\n",
       "       12.28013986,  7.90904537, 28.93008456, 31.28683002, 13.46005182,\n",
       "       20.03425335, 19.50098245, 25.64174982, 14.23728721, -5.50205403,\n",
       "       27.51128515, 25.62920355, 24.28122164, 28.60774557, 21.46501861,\n",
       "       25.33800639, 40.85666673, 30.90959856, 19.80867915, 36.86165675,\n",
       "       31.62702043, 12.70863328,  0.23861768, 14.86876168, 37.28986515,\n",
       "       20.05758274, 23.42233051, 28.44207941, 27.44069228, 27.81106122,\n",
       "       15.72541066, 32.38053292, 30.58911305,  8.37844713, 18.47982268,\n",
       "       17.94485675, 19.97474293, 33.07014231, 14.58102161, 14.93939466,\n",
       "       18.05799921, 16.61901157, 25.63516923, 20.15954195, 18.51634806,\n",
       "        2.7473372 , 12.03046111, 30.34266412, 24.96011034, 37.12099095])"
      ]
     },
     "execution_count": 2,
     "metadata": {},
     "output_type": "execute_result"
    }
   ],
   "source": [
    "#Generate some random data\n",
    "data = np.random.randn(100)*10 + 20\n",
    "\n",
    "data"
   ]
  },
  {
   "cell_type": "code",
   "execution_count": 3,
   "metadata": {},
   "outputs": [
    {
     "data": {
      "text/plain": [
       "(array([ 3.,  4., 11., 25., 20., 19., 10.,  8.]),\n",
       " array([-5.50205403,  0.29278607,  6.08762616, 11.88246626, 17.67730635,\n",
       "        23.47214645, 29.26698654, 35.06182664, 40.85666673]),\n",
       " <BarContainer object of 8 artists>)"
      ]
     },
     "execution_count": 3,
     "metadata": {},
     "output_type": "execute_result"
    },
    {
     "data": {
      "image/png": "[encoded data removed]",
      "text/plain": [
       "<Figure size 640x480 with 1 Axes>"
      ]
     },
     "metadata": {},
     "output_type": "display_data"
    }
   ],
   "source": [
    "plt.hist(data,bins=8)"
   ]
  },
  {
   "cell_type": "code",
   "execution_count": 4,
   "metadata": {},
   "outputs": [
    {
     "name": "stdout",
     "output_type": "stream",
     "text": [
      "Population mean is: 20.194709508728884\n",
      "Population variance is: 96.6056531743464\n"
     ]
    }
   ],
   "source": [
    "print(\"Population mean is:\", np.mean(data))\n",
    "\n",
    "print(\"Population variance is:\", np.var(data))"
   ]
  },
  {
   "cell_type": "code",
   "execution_count": 5,
   "metadata": {},
   "outputs": [
    {
     "data": {
      "text/plain": [
       "array([12.70863328, 17.94485675, 30.34266412,  2.14753361, 21.46501861,\n",
       "       31.28683002, 14.86876168, 11.21447575, 15.72541066, 20.17769776,\n",
       "       26.10482085,  2.7473372 , 25.33800639,  8.70477321, 31.62702043,\n",
       "       12.70863328, 29.21628919, 17.76339625, 37.78398136, 25.33800639,\n",
       "       14.58102161, 21.8889109 , 14.3116868 ,  2.7473372 , 27.81106122,\n",
       "       36.86165675, 31.62702043, 14.3116868 ,  8.37844713,  9.26541136])"
      ]
     },
     "execution_count": 5,
     "metadata": {},
     "output_type": "execute_result"
    }
   ],
   "source": [
    "#One sample with 30 numbers, this is what we have in hand.\n",
    "\n",
    "sample_30 = np.random.choice(data, 30, replace=True)\n",
    "\n",
    "sample_30"
   ]
  },
  {
   "cell_type": "markdown",
   "metadata": {},
   "source": [
    "1. Construct Bootstrap CI"
   ]
  },
  {
   "cell_type": "code",
   "execution_count": 6,
   "metadata": {},
   "outputs": [],
   "source": [
    "#Define a bootstrap function:\n",
    "def bootstrap(sample):\n",
    "    \n",
    "    bootstrap_mean_list = []\n",
    "    \n",
    "    for i in range(10000):\n",
    "        #generate a re-sample with the original sample size, with replacement\n",
    "        subsample = np.random.choice(sample, len(sample), replace=True)\n",
    "        \n",
    "        #compute sample mean\n",
    "        subsample_mean = np.mean(subsample)\n",
    "\n",
    "        bootstrap_mean_list.append(subsample_mean)\n",
    "    \n",
    "    #Calculatet the mean and std of the bootstrap sampling distribution\n",
    "    bootstrap_mean = np.mean(bootstrap_mean_list)\n",
    "    boostrap_std = np.std(bootstrap_mean_list)\n",
    "    \n",
    "    # mean +- 2*std for an approximate 95% CI.\n",
    "    CI = [(bootstrap_mean - 2*boostrap_std), (bootstrap_mean + 2*boostrap_std)]\n",
    "    \n",
    "    return CI\n",
    "    "
   ]
  },
  {
   "cell_type": "code",
   "execution_count": 7,
   "metadata": {},
   "outputs": [],
   "source": [
    "#Do the same thing for the percentile-based method:\n",
    "def bootstrap_perc(sample):\n",
    "    \n",
    "    bootstrap_mean_list = []\n",
    "    \n",
    "    for i in range(1000):\n",
    "        #generate a re-sample with the original sample size, with replacement\n",
    "        subsample = np.random.choice(sample, len(sample), replace=True)\n",
    "        \n",
    "        #compute sample mean\n",
    "        subsample_mean = np.mean(subsample)\n",
    "\n",
    "        bootstrap_mean_list.append(subsample_mean)\n",
    "    \n",
    "    #Get the lower and upper bound for the middle 95%:\n",
    "    percentile_CI = [np.percentile(bootstrap_mean_list, 2.5), \n",
    "          np.percentile(bootstrap_mean_list, 97.5)]\n",
    "    \n",
    "    return percentile_CI\n",
    "    "
   ]
  },
  {
   "cell_type": "code",
   "execution_count": 8,
   "metadata": {},
   "outputs": [],
   "source": [
    "bootstrap_CI = bootstrap(sample_30)\n",
    "bootstrap_CI_perc = bootstrap_perc(sample_30)"
   ]
  },
  {
   "cell_type": "code",
   "execution_count": null,
   "metadata": {},
   "outputs": [],
   "source": []
  },
  {
   "cell_type": "code",
   "execution_count": 9,
   "metadata": {},
   "outputs": [
    {
     "name": "stdout",
     "output_type": "stream",
     "text": [
      "95% bootstrap CI:  [15.638114978105367, 22.885731662815108]\n",
      "95% percentile-based bootstrap CI:  [15.451153673647907, 22.908528591622908]\n"
     ]
    }
   ],
   "source": [
    "print(\"95% bootstrap CI: \", bootstrap_CI)\n",
    "print(\"95% percentile-based bootstrap CI: \", bootstrap_CI_perc)"
   ]
  },
  {
   "cell_type": "code",
   "execution_count": null,
   "metadata": {},
   "outputs": [],
   "source": []
  },
  {
   "cell_type": "code",
   "execution_count": null,
   "metadata": {},
   "outputs": [],
   "source": []
  },
  {
   "cell_type": "markdown",
   "metadata": {},
   "source": [
    "2. Testing the coverage of the 95% CI"
   ]
  },
  {
   "cell_type": "code",
   "execution_count": 10,
   "metadata": {},
   "outputs": [
    {
     "name": "stdout",
     "output_type": "stream",
     "text": [
      "CPU times: user 1min 36s, sys: 1.74 s, total: 1min 38s\n",
      "Wall time: 1min 37s\n"
     ]
    }
   ],
   "source": [
    "%%time\n",
    "#generate samples for multiple times\n",
    "counter = 0\n",
    "counter_perc = 0\n",
    "true_mean = np.mean(data)\n",
    "\n",
    "for i in range(1000):\n",
    "    #generate a sample with 30 numbers\n",
    "    sample = np.random.choice(data, 30, replace=True)\n",
    "    \n",
    "    #For each sample, we compute the two CIs:\n",
    "    ci = bootstrap(sample)\n",
    "    perc_ci = bootstrap_perc(sample)\n",
    "    \n",
    "    #Check the coverage\n",
    "    if ci[0] <= true_mean <= ci[1]:\n",
    "        counter = counter + 1\n",
    "        \n",
    "    if perc_ci[0] <= true_mean <= perc_ci[1]:\n",
    "        counter_perc = counter_perc + 1"
   ]
  },
  {
   "cell_type": "code",
   "execution_count": 11,
   "metadata": {},
   "outputs": [
    {
     "name": "stdout",
     "output_type": "stream",
     "text": [
      "Number of times 95% bootstrap CI covered the population mean: 942 out of 1000\n"
     ]
    }
   ],
   "source": [
    "print(\"Number of times 95% bootstrap CI covered the population mean:\", \n",
    "      counter,\"out of 1000\")"
   ]
  },
  {
   "cell_type": "code",
   "execution_count": 12,
   "metadata": {},
   "outputs": [
    {
     "name": "stdout",
     "output_type": "stream",
     "text": [
      "Number of times 95% percentile-based bootstrap CI covered the population mean: 942 out of 1000\n"
     ]
    }
   ],
   "source": [
    "print(\"Number of times 95% percentile-based bootstrap CI covered the population mean:\", \n",
    "      counter,\"out of 1000\")"
   ]
  },
  {
   "cell_type": "code",
   "execution_count": null,
   "metadata": {},
   "outputs": [],
   "source": []
  },
  {
   "cell_type": "markdown",
   "metadata": {},
   "source": [
    "3. Bootstrap confidence interval for correlation coefficients"
   ]
  },
  {
   "cell_type": "code",
   "execution_count": 13,
   "metadata": {},
   "outputs": [],
   "source": [
    "import pandas as pd\n",
    "url = 'https://raw.githubusercontent.com/mwaskom/seaborn-data/master/mpg.csv'\n",
    "df = pd.read_csv(url)\n",
    "df = df.dropna()"
   ]
  },
  {
   "cell_type": "code",
   "execution_count": 14,
   "metadata": {},
   "outputs": [
    {
     "data": {
      "text/plain": [
       "Text(0, 0.5, 'Acceleration')"
      ]
     },
     "execution_count": 14,
     "metadata": {},
     "output_type": "execute_result"
    },
    {
     "data": {
      "image/png": "[encoded data removed]",
      "text/plain": [
       "<Figure size 640x480 with 1 Axes>"
      ]
     },
     "metadata": {},
     "output_type": "display_data"
    }
   ],
   "source": [
    "from scipy.stats import *\n",
    "\n",
    "plt.scatter(df.horsepower, df.acceleration)\n",
    "plt.xlabel(\"Horsepower\")\n",
    "plt.ylabel(\"Acceleration\")"
   ]
  },
  {
   "cell_type": "code",
   "execution_count": 15,
   "metadata": {},
   "outputs": [
    {
     "name": "stdout",
     "output_type": "stream",
     "text": [
      "Pearson: PearsonRResult(statistic=-0.6891955103342371, pvalue=1.5818862297811214e-56)\n"
     ]
    }
   ],
   "source": [
    "print(\"Pearson:\",pearsonr(df.horsepower, df.acceleration))"
   ]
  },
  {
   "cell_type": "code",
   "execution_count": null,
   "metadata": {},
   "outputs": [],
   "source": []
  },
  {
   "cell_type": "code",
   "execution_count": 16,
   "metadata": {},
   "outputs": [
    {
     "data": {
      "text/html": [
       "<div>\n",
       "<style scoped>\n",
       "    .dataframe tbody tr th:only-of-type {\n",
       "        vertical-align: middle;\n",
       "    }\n",
       "\n",
       "    .dataframe tbody tr th {\n",
       "        vertical-align: top;\n",
       "    }\n",
       "\n",
       "    .dataframe thead th {\n",
       "        text-align: right;\n",
       "    }\n",
       "</style>\n",
       "<table border=\"1\" class=\"dataframe\">\n",
       "  <thead>\n",
       "    <tr style=\"text-align: right;\">\n",
       "      <th></th>\n",
       "      <th>mpg</th>\n",
       "      <th>cylinders</th>\n",
       "      <th>displacement</th>\n",
       "      <th>horsepower</th>\n",
       "      <th>weight</th>\n",
       "      <th>acceleration</th>\n",
       "      <th>model_year</th>\n",
       "      <th>origin</th>\n",
       "      <th>name</th>\n",
       "    </tr>\n",
       "  </thead>\n",
       "  <tbody>\n",
       "    <tr>\n",
       "      <th>242</th>\n",
       "      <td>21.5</td>\n",
       "      <td>4</td>\n",
       "      <td>121.0</td>\n",
       "      <td>110.0</td>\n",
       "      <td>2600</td>\n",
       "      <td>12.8</td>\n",
       "      <td>77</td>\n",
       "      <td>europe</td>\n",
       "      <td>bmw 320i</td>\n",
       "    </tr>\n",
       "    <tr>\n",
       "      <th>315</th>\n",
       "      <td>24.3</td>\n",
       "      <td>4</td>\n",
       "      <td>151.0</td>\n",
       "      <td>90.0</td>\n",
       "      <td>3003</td>\n",
       "      <td>20.1</td>\n",
       "      <td>80</td>\n",
       "      <td>usa</td>\n",
       "      <td>amc concord</td>\n",
       "    </tr>\n",
       "    <tr>\n",
       "      <th>213</th>\n",
       "      <td>13.0</td>\n",
       "      <td>8</td>\n",
       "      <td>350.0</td>\n",
       "      <td>145.0</td>\n",
       "      <td>4055</td>\n",
       "      <td>12.0</td>\n",
       "      <td>76</td>\n",
       "      <td>usa</td>\n",
       "      <td>chevy c10</td>\n",
       "    </tr>\n",
       "    <tr>\n",
       "      <th>84</th>\n",
       "      <td>27.0</td>\n",
       "      <td>4</td>\n",
       "      <td>97.0</td>\n",
       "      <td>88.0</td>\n",
       "      <td>2100</td>\n",
       "      <td>16.5</td>\n",
       "      <td>72</td>\n",
       "      <td>japan</td>\n",
       "      <td>toyota corolla 1600 (sw)</td>\n",
       "    </tr>\n",
       "    <tr>\n",
       "      <th>358</th>\n",
       "      <td>31.6</td>\n",
       "      <td>4</td>\n",
       "      <td>120.0</td>\n",
       "      <td>74.0</td>\n",
       "      <td>2635</td>\n",
       "      <td>18.3</td>\n",
       "      <td>81</td>\n",
       "      <td>japan</td>\n",
       "      <td>mazda 626</td>\n",
       "    </tr>\n",
       "    <tr>\n",
       "      <th>...</th>\n",
       "      <td>...</td>\n",
       "      <td>...</td>\n",
       "      <td>...</td>\n",
       "      <td>...</td>\n",
       "      <td>...</td>\n",
       "      <td>...</td>\n",
       "      <td>...</td>\n",
       "      <td>...</td>\n",
       "      <td>...</td>\n",
       "    </tr>\n",
       "    <tr>\n",
       "      <th>212</th>\n",
       "      <td>16.5</td>\n",
       "      <td>8</td>\n",
       "      <td>350.0</td>\n",
       "      <td>180.0</td>\n",
       "      <td>4380</td>\n",
       "      <td>12.1</td>\n",
       "      <td>76</td>\n",
       "      <td>usa</td>\n",
       "      <td>cadillac seville</td>\n",
       "    </tr>\n",
       "    <tr>\n",
       "      <th>11</th>\n",
       "      <td>14.0</td>\n",
       "      <td>8</td>\n",
       "      <td>340.0</td>\n",
       "      <td>160.0</td>\n",
       "      <td>3609</td>\n",
       "      <td>8.0</td>\n",
       "      <td>70</td>\n",
       "      <td>usa</td>\n",
       "      <td>plymouth 'cuda 340</td>\n",
       "    </tr>\n",
       "    <tr>\n",
       "      <th>129</th>\n",
       "      <td>31.0</td>\n",
       "      <td>4</td>\n",
       "      <td>79.0</td>\n",
       "      <td>67.0</td>\n",
       "      <td>1950</td>\n",
       "      <td>19.0</td>\n",
       "      <td>74</td>\n",
       "      <td>japan</td>\n",
       "      <td>datsun b210</td>\n",
       "    </tr>\n",
       "    <tr>\n",
       "      <th>71</th>\n",
       "      <td>19.0</td>\n",
       "      <td>3</td>\n",
       "      <td>70.0</td>\n",
       "      <td>97.0</td>\n",
       "      <td>2330</td>\n",
       "      <td>13.5</td>\n",
       "      <td>72</td>\n",
       "      <td>japan</td>\n",
       "      <td>mazda rx2 coupe</td>\n",
       "    </tr>\n",
       "    <tr>\n",
       "      <th>222</th>\n",
       "      <td>17.0</td>\n",
       "      <td>8</td>\n",
       "      <td>260.0</td>\n",
       "      <td>110.0</td>\n",
       "      <td>4060</td>\n",
       "      <td>19.0</td>\n",
       "      <td>77</td>\n",
       "      <td>usa</td>\n",
       "      <td>oldsmobile cutlass supreme</td>\n",
       "    </tr>\n",
       "  </tbody>\n",
       "</table>\n",
       "<p>118 rows × 9 columns</p>\n",
       "</div>"
      ],
      "text/plain": [
       "      mpg  cylinders  displacement  horsepower  weight  acceleration  \\\n",
       "242  21.5          4         121.0       110.0    2600          12.8   \n",
       "315  24.3          4         151.0        90.0    3003          20.1   \n",
       "213  13.0          8         350.0       145.0    4055          12.0   \n",
       "84   27.0          4          97.0        88.0    2100          16.5   \n",
       "358  31.6          4         120.0        74.0    2635          18.3   \n",
       "..    ...        ...           ...         ...     ...           ...   \n",
       "212  16.5          8         350.0       180.0    4380          12.1   \n",
       "11   14.0          8         340.0       160.0    3609           8.0   \n",
       "129  31.0          4          79.0        67.0    1950          19.0   \n",
       "71   19.0          3          70.0        97.0    2330          13.5   \n",
       "222  17.0          8         260.0       110.0    4060          19.0   \n",
       "\n",
       "     model_year  origin                        name  \n",
       "242          77  europe                    bmw 320i  \n",
       "315          80     usa                 amc concord  \n",
       "213          76     usa                   chevy c10  \n",
       "84           72   japan    toyota corolla 1600 (sw)  \n",
       "358          81   japan                   mazda 626  \n",
       "..          ...     ...                         ...  \n",
       "212          76     usa            cadillac seville  \n",
       "11           70     usa          plymouth 'cuda 340  \n",
       "129          74   japan                 datsun b210  \n",
       "71           72   japan             mazda rx2 coupe  \n",
       "222          77     usa  oldsmobile cutlass supreme  \n",
       "\n",
       "[118 rows x 9 columns]"
      ]
     },
     "execution_count": 16,
     "metadata": {},
     "output_type": "execute_result"
    }
   ],
   "source": [
    "sample_car = df.sample(frac=0.3,replace=True)\n",
    "sample_car"
   ]
  },
  {
   "cell_type": "code",
   "execution_count": 17,
   "metadata": {},
   "outputs": [
    {
     "name": "stdout",
     "output_type": "stream",
     "text": [
      "Pearson: PearsonRResult(statistic=-0.7267559606365753, pvalue=1.211975664343792e-20)\n"
     ]
    }
   ],
   "source": [
    "print(\"Pearson:\",pearsonr(sample_car.horsepower, sample_car.acceleration))"
   ]
  },
  {
   "cell_type": "code",
   "execution_count": 18,
   "metadata": {},
   "outputs": [],
   "source": [
    "#Define a bootstrap function:\n",
    "def bootstrap_pearson(sample_car):\n",
    "    \n",
    "    bootstrap_cor_list = []\n",
    "    \n",
    "    for i in range(10000):\n",
    "        #generate a re-sample with the original sample size, with replacement\n",
    "        subsample = sample_car.sample(len(sample), replace=True)\n",
    "        \n",
    "        #compute correlation\n",
    "        sample_cor = pearsonr(subsample.horsepower, subsample.acceleration)[0]\n",
    "\n",
    "        bootstrap_cor_list.append(sample_cor)\n",
    "    \n",
    "    #Get the lower and upper bound for the middle 95%:\n",
    "    percentile_CI = [np.percentile(bootstrap_cor_list, 2.5), \n",
    "          np.percentile(bootstrap_cor_list, 97.5)]\n",
    "    \n",
    "    return percentile_CI\n",
    "    "
   ]
  },
  {
   "cell_type": "code",
   "execution_count": 19,
   "metadata": {},
   "outputs": [
    {
     "data": {
      "text/plain": [
       "[-0.8479620938524572, -0.5349805668623286]"
      ]
     },
     "execution_count": 19,
     "metadata": {},
     "output_type": "execute_result"
    }
   ],
   "source": [
    "bootstrap_pearson(sample_car)"
   ]
  },
  {
   "cell_type": "code",
   "execution_count": 20,
   "metadata": {},
   "outputs": [
    {
     "name": "stdout",
     "output_type": "stream",
     "text": [
      "95% confidence interval of the Pearson correlation coefficient is: [-0.86 to -0.29]\n"
     ]
    }
   ],
   "source": [
    "print(\"95% confidence interval of the Pearson correlation coefficient is:\",\n",
    "     \"[-0.86 to -0.29]\")\n"
   ]
  },
  {
   "cell_type": "markdown",
   "metadata": {},
   "source": [
    "We are 95% confident that the true correlation of HP and ACC in the population is between -0.86 to -0.29."
   ]
  },
  {
   "cell_type": "markdown",
   "metadata": {},
   "source": [
    "In this case, the CI doesn't cover 0, which means population correlation coefficient is not zero. So the negative trend we observe from the sample isn't just becuase of the sampling variation but because the true correlation is negative in the population."
   ]
  },
  {
   "cell_type": "code",
   "execution_count": null,
   "metadata": {},
   "outputs": [],
   "source": []
  }
 ],
 "metadata": {
  "kernelspec": {
   "display_name": "Python 3 (ipykernel)",
   "language": "python",
   "name": "python3"
  },
  "language_info": {
   "codemirror_mode": {
    "name": "ipython",
    "version": 3
   },
   "file_extension": ".py",
   "mimetype": "text/x-python",
   "name": "python",
   "nbconvert_exporter": "python",
   "pygments_lexer": "ipython3",
   "version": "3.11.5"
  }
 },
 "nbformat": 4,
 "nbformat_minor": 4
}
