{
 "cells": [
  {
   "cell_type": "markdown",
   "id": "1d46bcab",
   "metadata": {},
   "source": [
    "### Auto ML parameter tuning example\n",
    "\n",
    "Hyper-parameter tuning is often the most tedious part of building a machine learning model. Here I will show an example of how to use the `hpsklearn` package to automatically tune a good machine learning model. How it works is that a default hyperparameter space has been defined, and the package will be able to search through space and find the best combination that gives the best model.\n",
    "\n",
    "We will use the same housing dataset as an example."
   ]
  },
  {
   "cell_type": "code",
   "execution_count": 1,
   "id": "5f8263f8",
   "metadata": {},
   "outputs": [],
   "source": [
    "from sklearn.model_selection import train_test_split\n",
    "import numpy as np\n",
    "import matplotlib.pyplot as plt\n",
    "import pandas as pd"
   ]
  },
  {
   "cell_type": "markdown",
   "id": "3272ef23",
   "metadata": {},
   "source": [
    "### Data"
   ]
  },
  {
   "cell_type": "code",
   "execution_count": 2,
   "id": "85e2e6f3",
   "metadata": {},
   "outputs": [],
   "source": [
    "houses = pd.read_csv(\"https://raw.githubusercontent.com/Ziqi-Li/GIS5122/main/data/seattle_data_cleaned.csv\")"
   ]
  },
  {
   "cell_type": "code",
   "execution_count": 3,
   "id": "851c4ab0",
   "metadata": {},
   "outputs": [
    {
     "data": {
      "text/html": [
       "<div>\n",
       "<style scoped>\n",
       "    .dataframe tbody tr th:only-of-type {\n",
       "        vertical-align: middle;\n",
       "    }\n",
       "\n",
       "    .dataframe tbody tr th {\n",
       "        vertical-align: top;\n",
       "    }\n",
       "\n",
       "    .dataframe thead th {\n",
       "        text-align: right;\n",
       "    }\n",
       "</style>\n",
       "<table border=\"1\" class=\"dataframe\">\n",
       "  <thead>\n",
       "    <tr style=\"text-align: right;\">\n",
       "      <th></th>\n",
       "      <th>Unnamed: 0</th>\n",
       "      <th>bathrooms</th>\n",
       "      <th>sqft_living</th>\n",
       "      <th>sqft_lot</th>\n",
       "      <th>grade</th>\n",
       "      <th>condition</th>\n",
       "      <th>waterfront</th>\n",
       "      <th>view</th>\n",
       "      <th>age</th>\n",
       "      <th>UTM_X</th>\n",
       "      <th>UTM_Y</th>\n",
       "      <th>log_10_price</th>\n",
       "    </tr>\n",
       "  </thead>\n",
       "  <tbody>\n",
       "    <tr>\n",
       "      <th>0</th>\n",
       "      <td>9172</td>\n",
       "      <td>3.00</td>\n",
       "      <td>2660</td>\n",
       "      <td>4600</td>\n",
       "      <td>8</td>\n",
       "      <td>3</td>\n",
       "      <td>0</td>\n",
       "      <td>0</td>\n",
       "      <td>109</td>\n",
       "      <td>552217.557035</td>\n",
       "      <td>5.274945e+06</td>\n",
       "      <td>6.091315</td>\n",
       "    </tr>\n",
       "    <tr>\n",
       "      <th>1</th>\n",
       "      <td>2264</td>\n",
       "      <td>2.25</td>\n",
       "      <td>2530</td>\n",
       "      <td>8736</td>\n",
       "      <td>7</td>\n",
       "      <td>4</td>\n",
       "      <td>0</td>\n",
       "      <td>0</td>\n",
       "      <td>57</td>\n",
       "      <td>565692.484331</td>\n",
       "      <td>5.272758e+06</td>\n",
       "      <td>5.790988</td>\n",
       "    </tr>\n",
       "    <tr>\n",
       "      <th>2</th>\n",
       "      <td>348</td>\n",
       "      <td>2.00</td>\n",
       "      <td>1390</td>\n",
       "      <td>13464</td>\n",
       "      <td>7</td>\n",
       "      <td>4</td>\n",
       "      <td>0</td>\n",
       "      <td>0</td>\n",
       "      <td>28</td>\n",
       "      <td>562451.661509</td>\n",
       "      <td>5.245291e+06</td>\n",
       "      <td>5.315130</td>\n",
       "    </tr>\n",
       "    <tr>\n",
       "      <th>3</th>\n",
       "      <td>16463</td>\n",
       "      <td>1.00</td>\n",
       "      <td>940</td>\n",
       "      <td>4264</td>\n",
       "      <td>7</td>\n",
       "      <td>5</td>\n",
       "      <td>0</td>\n",
       "      <td>0</td>\n",
       "      <td>66</td>\n",
       "      <td>546816.935618</td>\n",
       "      <td>5.264407e+06</td>\n",
       "      <td>5.619093</td>\n",
       "    </tr>\n",
       "    <tr>\n",
       "      <th>4</th>\n",
       "      <td>12598</td>\n",
       "      <td>2.25</td>\n",
       "      <td>2070</td>\n",
       "      <td>7225</td>\n",
       "      <td>8</td>\n",
       "      <td>3</td>\n",
       "      <td>0</td>\n",
       "      <td>0</td>\n",
       "      <td>36</td>\n",
       "      <td>564343.195352</td>\n",
       "      <td>5.244978e+06</td>\n",
       "      <td>5.477121</td>\n",
       "    </tr>\n",
       "  </tbody>\n",
       "</table>\n",
       "</div>"
      ],
      "text/plain": [
       "   Unnamed: 0  bathrooms  sqft_living  sqft_lot  grade  condition  waterfront  \\\n",
       "0        9172       3.00         2660      4600      8          3           0   \n",
       "1        2264       2.25         2530      8736      7          4           0   \n",
       "2         348       2.00         1390     13464      7          4           0   \n",
       "3       16463       1.00          940      4264      7          5           0   \n",
       "4       12598       2.25         2070      7225      8          3           0   \n",
       "\n",
       "   view  age          UTM_X         UTM_Y  log_10_price  \n",
       "0     0  109  552217.557035  5.274945e+06      6.091315  \n",
       "1     0   57  565692.484331  5.272758e+06      5.790988  \n",
       "2     0   28  562451.661509  5.245291e+06      5.315130  \n",
       "3     0   66  546816.935618  5.264407e+06      5.619093  \n",
       "4     0   36  564343.195352  5.244978e+06      5.477121  "
      ]
     },
     "execution_count": 3,
     "metadata": {},
     "output_type": "execute_result"
    }
   ],
   "source": [
    "houses.head()"
   ]
  },
  {
   "cell_type": "code",
   "execution_count": 4,
   "id": "4e194165",
   "metadata": {},
   "outputs": [],
   "source": [
    "sampled = houses.sample(frac=0.2,random_state=1)\n",
    "\n",
    "y = sampled.log_10_price\n",
    "\n",
    "X = sampled[['bathrooms', 'sqft_living', 'sqft_lot', 'grade',\n",
    "       'condition', 'waterfront', 'view', 'age', 'UTM_X', 'UTM_Y']]"
   ]
  },
  {
   "cell_type": "code",
   "execution_count": null,
   "id": "a58d8258",
   "metadata": {},
   "outputs": [],
   "source": []
  },
  {
   "cell_type": "markdown",
   "id": "6a93d95f",
   "metadata": {},
   "source": [
    "We can split the data into training (80%) and testing (20%). The model will be trained based on the training data and the testing data will be used to evaluate the model accuracy on unseen data."
   ]
  },
  {
   "cell_type": "code",
   "execution_count": 5,
   "id": "f5f9547a",
   "metadata": {},
   "outputs": [],
   "source": [
    "X_train, X_test, y_train, y_test = train_test_split(X, y, test_size=0.2, random_state=42)"
   ]
  },
  {
   "cell_type": "markdown",
   "id": "bd871883",
   "metadata": {},
   "source": [
    "For a complete list of models supported, see this link:\n",
    "\n",
    "https://github.com/hyperopt/hyperopt-sklearn\n",
    "\n",
    "In this example, I chose\n",
    "- Linear Regression (baseline)\n",
    "- XGBoost\n",
    "- Random Forest\n",
    "- Decision Tree"
   ]
  },
  {
   "cell_type": "code",
   "execution_count": 6,
   "id": "cd7fcc19",
   "metadata": {},
   "outputs": [],
   "source": [
    "from hpsklearn import HyperoptEstimator,linear_regression, decision_tree_regressor\n",
    "from hpsklearn import xgboost_regression,random_forest_regressor\n",
    "\n",
    "from hyperopt import tpe"
   ]
  },
  {
   "cell_type": "markdown",
   "id": "4c0178c8",
   "metadata": {},
   "source": [
    "### hpsklearn\n",
    "Below is a function that can train any model, the only change you need to is to replace the function with your data and a specific model. `max_evals=10` indicates the number of hyperparameter combinations being evaluated. Increase it to a large number if you think that will help.\n",
    "\n",
    "The best combination will be deterimined by a cross-validatuon process of your training data."
   ]
  },
  {
   "cell_type": "code",
   "execution_count": 16,
   "id": "7b129500",
   "metadata": {},
   "outputs": [],
   "source": [
    "def train_any_model(X_train, y_train, any_regressor,max_evals=10):\n",
    "    \n",
    "    estim = HyperoptEstimator(regressor=any_regressor(\"myModel\"), preprocessing=[],\n",
    "                              algo=tpe.suggest,max_evals=max_evals,trial_timeout=240,n_jobs=-1)\n",
    "    \n",
    "    #5-fold cross validation of your training data\n",
    "    estim.fit(X_train, y_train, n_folds=5, cv_shuffle=True, random_state=123)\n",
    "    return estim"
   ]
  },
  {
   "cell_type": "markdown",
   "id": "50b69618",
   "metadata": {},
   "source": [
    "### XGBoost"
   ]
  },
  {
   "cell_type": "code",
   "execution_count": 8,
   "id": "848d09fa",
   "metadata": {},
   "outputs": [
    {
     "name": "stdout",
     "output_type": "stream",
     "text": [
      "100%|█████████████| 1/1 [00:05<00:00,  5.05s/trial, best loss: 299.10736343209487]\n",
      "100%|████████████| 2/2 [00:05<00:00,  5.72s/trial, best loss: 0.11579538731155403]\n",
      "100%|████████████| 3/3 [00:11<00:00, 11.34s/trial, best loss: 0.11579538731155403]\n",
      "100%|████████████| 4/4 [00:08<00:00,  8.12s/trial, best loss: 0.11579538731155403]\n",
      "100%|████████████| 5/5 [00:05<00:00,  5.39s/trial, best loss: 0.11579538731155403]\n",
      "100%|████████████| 6/6 [00:04<00:00,  4.86s/trial, best loss: 0.11579538731155403]\n",
      "100%|████████████| 7/7 [00:07<00:00,  7.01s/trial, best loss: 0.11579538731155403]\n",
      "100%|████████████| 8/8 [00:02<00:00,  2.21s/trial, best loss: 0.11579538731155403]\n",
      "100%|████████████| 9/9 [00:03<00:00,  3.79s/trial, best loss: 0.11579538731155403]\n",
      "100%|██████████| 10/10 [00:01<00:00,  1.64s/trial, best loss: 0.11579538731155403]\n",
      "CPU times: user 4.84 s, sys: 5.02 s, total: 9.86 s\n",
      "Wall time: 56.2 s\n"
     ]
    }
   ],
   "source": [
    "%%time\n",
    "xgb_models = train_any_model(X_train, y_train, xgboost_regression)\n",
    "\n",
    "best_xgb = xgb_models.best_model()['learner']\n",
    "\n",
    "# Make predictions\n",
    "xgb_pred = best_xgb.predict(X_test)"
   ]
  },
  {
   "cell_type": "markdown",
   "id": "2dfc8dd0",
   "metadata": {},
   "source": [
    "### Linear Regression"
   ]
  },
  {
   "cell_type": "code",
   "execution_count": 9,
   "id": "bcea17c2",
   "metadata": {},
   "outputs": [
    {
     "name": "stdout",
     "output_type": "stream",
     "text": [
      "100%|████████████| 1/1 [00:01<00:00,  1.35s/trial, best loss: 0.23584924783186423]\n",
      "100%|████████████| 2/2 [00:01<00:00,  1.29s/trial, best loss: 0.23584924783186423]\n",
      "100%|████████████| 3/3 [00:01<00:00,  1.33s/trial, best loss: 0.23584924783186423]\n",
      "100%|████████████| 4/4 [00:01<00:00,  1.29s/trial, best loss: 0.23584924783186423]\n",
      "100%|████████████| 5/5 [00:01<00:00,  1.30s/trial, best loss: 0.23584924783186423]\n",
      "100%|████████████| 6/6 [00:01<00:00,  1.31s/trial, best loss: 0.23584924783186423]\n",
      "100%|████████████| 7/7 [00:01<00:00,  1.34s/trial, best loss: 0.23584924783186423]\n",
      "100%|████████████| 8/8 [00:01<00:00,  1.30s/trial, best loss: 0.23584924783186423]\n",
      "100%|████████████| 9/9 [00:01<00:00,  1.33s/trial, best loss: 0.23584924783186423]\n",
      "100%|██████████| 10/10 [00:01<00:00,  1.30s/trial, best loss: 0.23584924783186423]\n",
      "CPU times: user 205 ms, sys: 302 ms, total: 507 ms\n",
      "Wall time: 13.2 s\n"
     ]
    },
    {
     "name": "stderr",
     "output_type": "stream",
     "text": [
      "/Users/ziqili/anaconda3/lib/python3.11/site-packages/sklearn/base.py:458: UserWarning: X has feature names, but LinearRegression was fitted without feature names\n",
      "  warnings.warn(\n"
     ]
    }
   ],
   "source": [
    "%%time\n",
    "lr_models = train_any_model(X_train, y_train, linear_regression)\n",
    "\n",
    "best_lr = lr_models.best_model()['learner']\n",
    "\n",
    "# Make predictions \n",
    "lr_pred = best_lr.predict(X_test)"
   ]
  },
  {
   "cell_type": "markdown",
   "id": "c9e58e58",
   "metadata": {},
   "source": [
    "### Random Forest"
   ]
  },
  {
   "cell_type": "code",
   "execution_count": 10,
   "id": "8879ad1e",
   "metadata": {},
   "outputs": [
    {
     "name": "stdout",
     "output_type": "stream",
     "text": [
      "100%|████████████| 1/1 [00:02<00:00,  2.55s/trial, best loss: 0.33984356214795053]\n",
      "100%|████████████| 2/2 [00:02<00:00,  2.34s/trial, best loss: 0.20350819296581457]\n",
      "100%|████████████| 3/3 [00:02<00:00,  2.12s/trial, best loss: 0.20350819296581457]\n",
      "100%|████████████| 4/4 [00:01<00:00,  1.53s/trial, best loss: 0.20350819296581457]\n",
      "100%|████████████| 5/5 [00:04<00:00,  4.37s/trial, best loss: 0.20350819296581457]\n",
      "100%|████████████| 6/6 [00:07<00:00,  7.44s/trial, best loss: 0.20350819296581457]\n",
      "100%|████████████| 7/7 [00:01<00:00,  1.47s/trial, best loss: 0.14462798181350922]\n",
      "100%|████████████| 8/8 [00:07<00:00,  7.14s/trial, best loss: 0.13836036585060485]\n",
      "100%|████████████| 9/9 [00:12<00:00, 12.46s/trial, best loss: 0.13836036585060485]\n",
      "100%|██████████| 10/10 [00:02<00:00,  2.16s/trial, best loss: 0.13836036585060485]\n",
      "CPU times: user 8.45 s, sys: 910 ms, total: 9.36 s\n",
      "Wall time: 44.8 s\n"
     ]
    },
    {
     "name": "stderr",
     "output_type": "stream",
     "text": [
      "/Users/ziqili/anaconda3/lib/python3.11/site-packages/sklearn/base.py:458: UserWarning: X has feature names, but RandomForestRegressor was fitted without feature names\n",
      "  warnings.warn(\n"
     ]
    }
   ],
   "source": [
    "%%time\n",
    "rf_models = train_any_model(X_train, y_train, random_forest_regressor)\n",
    "\n",
    "best_rf = rf_models.best_model()['learner']\n",
    "\n",
    "# Make predictions \n",
    "rf_pred = best_rf.predict(X_test)"
   ]
  },
  {
   "cell_type": "markdown",
   "id": "4a2775fb",
   "metadata": {},
   "source": [
    "### Decision Tree"
   ]
  },
  {
   "cell_type": "code",
   "execution_count": 11,
   "id": "0e32d4a9",
   "metadata": {},
   "outputs": [
    {
     "name": "stdout",
     "output_type": "stream",
     "text": [
      "100%|█████████████| 1/1 [00:01<00:00,  1.38s/trial, best loss: 0.2710971654486245]\n",
      "100%|█████████████| 2/2 [00:01<00:00,  1.39s/trial, best loss: 0.2710971654486245]\n",
      "100%|█████████████| 3/3 [00:01<00:00,  1.33s/trial, best loss: 0.2710971654486245]\n",
      "100%|█████████████| 4/4 [00:01<00:00,  1.34s/trial, best loss: 0.2710971654486245]\n",
      "100%|█████████████| 5/5 [00:01<00:00,  1.35s/trial, best loss: 0.2710971654486245]\n",
      "100%|█████████████| 6/6 [00:01<00:00,  1.35s/trial, best loss: 0.2710971654486245]\n",
      "100%|█████████████| 7/7 [00:01<00:00,  1.35s/trial, best loss: 0.2710971654486245]\n",
      "100%|█████████████| 8/8 [00:01<00:00,  1.34s/trial, best loss: 0.2710971654486245]\n",
      "100%|█████████████| 9/9 [00:01<00:00,  1.32s/trial, best loss: 0.2710971654486245]\n",
      "100%|███████████| 10/10 [00:01<00:00,  1.27s/trial, best loss: 0.2710971654486245]\n",
      "CPU times: user 83.7 ms, sys: 99.6 ms, total: 183 ms\n",
      "Wall time: 13.5 s\n"
     ]
    },
    {
     "name": "stderr",
     "output_type": "stream",
     "text": [
      "/Users/ziqili/anaconda3/lib/python3.11/site-packages/sklearn/base.py:458: UserWarning: X has feature names, but DecisionTreeRegressor was fitted without feature names\n",
      "  warnings.warn(\n"
     ]
    }
   ],
   "source": [
    "%%time\n",
    "dt_models = train_any_model(X_train, y_train, decision_tree_regressor)\n",
    "\n",
    "best_dt = dt_models.best_model()['learner']\n",
    "\n",
    "# Make predictions \n",
    "dt_pred = best_dt.predict(X_test)"
   ]
  },
  {
   "cell_type": "markdown",
   "id": "4a8a6f39",
   "metadata": {},
   "source": [
    "### Cross evaluate model performance on the test data"
   ]
  },
  {
   "cell_type": "code",
   "execution_count": 14,
   "id": "6b2244ba",
   "metadata": {},
   "outputs": [
    {
     "name": "stdout",
     "output_type": "stream",
     "text": [
      "XGB - R2: 0.8903992104779395\n",
      "RF - R2: 0.8654967478424883\n",
      "DT - R2: 0.7353998202869545\n",
      "LR - R2: 0.7752944914831731\n"
     ]
    }
   ],
   "source": [
    "from sklearn.metrics import mean_squared_error, r2_score\n",
    "\n",
    "print(\"XGB - R2:\", r2_score(y_test, xgb_pred))\n",
    "print(\"RF - R2:\", r2_score(y_test, rf_pred))\n",
    "print(\"DT - R2:\", r2_score(y_test, dt_pred))\n",
    "print(\"LR - R2:\", r2_score(y_test, lr_pred))"
   ]
  },
  {
   "cell_type": "code",
   "execution_count": null,
   "id": "cef12efd",
   "metadata": {},
   "outputs": [],
   "source": []
  },
  {
   "cell_type": "code",
   "execution_count": 15,
   "id": "7feb233f",
   "metadata": {},
   "outputs": [
    {
     "name": "stdout",
     "output_type": "stream",
     "text": [
      "XGB - MSE: 0.00541686347973995\n",
      "RF - MSE: 0.006647632354615735\n",
      "DT - MSE: 0.01307748836911186\n",
      "LR - MSE: 0.011105750862644976\n"
     ]
    }
   ],
   "source": [
    "print(\"XGB - MSE:\", mean_squared_error(y_test, xgb_pred))\n",
    "print(\"RF - MSE:\", mean_squared_error(y_test, rf_pred))\n",
    "print(\"DT - MSE:\", mean_squared_error(y_test, dt_pred))\n",
    "print(\"LR - MSE:\", mean_squared_error(y_test, lr_pred))"
   ]
  },
  {
   "cell_type": "markdown",
   "id": "958f943c",
   "metadata": {},
   "source": [
    "Conclusion: XGBoost has the lowest MSE and highest R2 for this data."
   ]
  },
  {
   "cell_type": "code",
   "execution_count": null,
   "id": "9cb0e480",
   "metadata": {},
   "outputs": [],
   "source": []
  }
 ],
 "metadata": {
  "kernelspec": {
   "display_name": "Python 3 (ipykernel)",
   "language": "python",
   "name": "python3"
  },
  "language_info": {
   "codemirror_mode": {
    "name": "ipython",
    "version": 3
   },
   "file_extension": ".py",
   "mimetype": "text/x-python",
   "name": "python",
   "nbconvert_exporter": "python",
   "pygments_lexer": "ipython3",
   "version": "3.11.5"
  }
 },
 "nbformat": 4,
 "nbformat_minor": 5
}
