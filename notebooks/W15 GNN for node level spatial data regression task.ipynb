{
 "cells": [
  {
   "cell_type": "markdown",
   "id": "aee77f4d",
   "metadata": {},
   "source": [
    "### Graph Neural Network for spatial data - node level regression\n",
    "\n",
    "Spatial data can be conceptualized as a connected graph with nodes (locations) and edges (distances between nodes, connectivity).\n",
    "\n",
    "So a regular spatial regression problem can be solved with GNN. Here we use the same house price data with nodes as individual properties, node level features include housing attributes, and edges as distances between properties."
   ]
  },
  {
   "cell_type": "markdown",
   "id": "7c8db4a9",
   "metadata": {},
   "source": [
    "PyTorch 's GNN modules need to be seperately installed as `pip install torch_geometric`"
   ]
  },
  {
   "cell_type": "code",
   "execution_count": 1,
   "id": "551754df",
   "metadata": {},
   "outputs": [],
   "source": [
    "import numpy as np\n",
    "import pandas as pd\n",
    "import matplotlib.pyplot as plt\n",
    "from sklearn.model_selection import train_test_split"
   ]
  },
  {
   "cell_type": "code",
   "execution_count": 2,
   "id": "c8a755b5",
   "metadata": {},
   "outputs": [],
   "source": [
    "import torch\n",
    "from torch_geometric.data import Data, DataLoader\n",
    "from torch_geometric.nn import GCNConv\n",
    "import numpy as np"
   ]
  },
  {
   "cell_type": "markdown",
   "id": "58e4af88",
   "metadata": {},
   "source": [
    "Read the house price data\n",
    "\n",
    "*Experiment with a larger fraction of the data.*"
   ]
  },
  {
   "cell_type": "code",
   "execution_count": 3,
   "id": "93af8651",
   "metadata": {},
   "outputs": [],
   "source": [
    "houses = pd.read_csv(\"https://raw.githubusercontent.com/Ziqi-Li/GIS5122/main/data/seattle_data_cleaned.csv\")\n",
    "sampled = houses.sample(frac=0.2,random_state=1)"
   ]
  },
  {
   "cell_type": "markdown",
   "id": "dbe8faa9",
   "metadata": {},
   "source": [
    "Specify features, labels and coordinates. Coordinates will be used to build the graph.\n",
    "\n",
    "Standardize your features and label"
   ]
  },
  {
   "cell_type": "code",
   "execution_count": 4,
   "id": "f462ce7a",
   "metadata": {},
   "outputs": [],
   "source": [
    "y = sampled.log_10_price.values.reshape(-1,1)\n",
    "\n",
    "X = sampled[['bathrooms', 'sqft_living', 'sqft_lot', 'grade',\n",
    "       'condition', 'waterfront', 'view', 'age']]\n",
    "\n",
    "coordinates = sampled[['UTM_X', 'UTM_Y']].values\n",
    "\n",
    "from sklearn.preprocessing import StandardScaler\n",
    "# Scale the features\n",
    "\n",
    "#Here we use a standard scaler that will make the data have mean of 0 and std of 1\n",
    "scaler = StandardScaler()\n",
    "\n",
    "X_scaled = scaler.fit_transform(X)\n",
    "\n",
    "y_scaled = scaler.fit_transform(y)"
   ]
  },
  {
   "cell_type": "code",
   "execution_count": 5,
   "id": "246169f7",
   "metadata": {},
   "outputs": [
    {
     "data": {
      "text/plain": [
       "(3316, 8)"
      ]
     },
     "execution_count": 5,
     "metadata": {},
     "output_type": "execute_result"
    }
   ],
   "source": [
    "X_scaled.shape"
   ]
  },
  {
   "cell_type": "markdown",
   "id": "d1719e20",
   "metadata": {},
   "source": [
    "### Build the graph\n",
    "\n",
    "Next we build the graph. Note that it will be VERY costly to build a very large fully connected graph say, with more than 1,000 data points. So a compromise is to only add edges to nodes that are nearby within a certain `threshold_distance`. This can be a hyper-parameter to tune.\n",
    "\n",
    "*Experiment with different threshold_distance values.*"
   ]
  },
  {
   "cell_type": "code",
   "execution_count": 6,
   "id": "d70f8b98",
   "metadata": {},
   "outputs": [
    {
     "name": "stdout",
     "output_type": "stream",
     "text": [
      "CPU times: user 13 s, sys: 99.5 ms, total: 13.1 s\n",
      "Wall time: 13.2 s\n"
     ]
    }
   ],
   "source": [
    "%%time\n",
    "\n",
    "from scipy.spatial import distance\n",
    "\n",
    "# Get the number of properties as nodes\n",
    "num_nodes = y.shape[0]\n",
    "\n",
    "edges = []\n",
    "\n",
    "threshold_distance = 1 #miles \n",
    "\n",
    "#Loop over all the pairs of nodes/locations\n",
    "for i in range(num_nodes):\n",
    "    for j in range(i + 1, num_nodes):\n",
    "        \n",
    "        #Calculate distance between two nodes in the unit of mile\n",
    "        dist = distance.euclidean(coordinates[i], coordinates[j])/1000/1.60934\n",
    "        \n",
    "        #Add an edge if the distance is below the threshold_distance\n",
    "        if dist < threshold_distance:\n",
    "            \n",
    "            edges.append((i, j))\n",
    "            edges.append((j, i))\n",
    "            \n",
    "\n",
    "#Make it a tensor\n",
    "edges = torch.tensor(edges, dtype=torch.long).t().contiguous()"
   ]
  },
  {
   "cell_type": "code",
   "execution_count": 7,
   "id": "7a3ef5a1",
   "metadata": {},
   "outputs": [
    {
     "data": {
      "text/plain": [
       "torch.Size([2, 122542])"
      ]
     },
     "execution_count": 7,
     "metadata": {},
     "output_type": "execute_result"
    }
   ],
   "source": [
    "#Your edges should have a shape of 2 by the number of edges.\n",
    "edges.shape"
   ]
  },
  {
   "cell_type": "markdown",
   "id": "10ffa8d4",
   "metadata": {},
   "source": [
    "Next, by default, GNN convolutes neighboring nodes without any weights, this is fine for unweighted grapsh such as a social network, but for a spatial network, we usually want to impose the idea of distance as the weight of the edge.\n",
    "\n"
   ]
  },
  {
   "cell_type": "code",
   "execution_count": 8,
   "id": "e4be0236",
   "metadata": {},
   "outputs": [],
   "source": [
    "\n",
    "def compute_edge_distances(x, edge_index):\n",
    "    # Extract node features for each edge\n",
    "    node_features_start = x[edge_index[0]]\n",
    "    node_features_end = x[edge_index[1]]\n",
    "\n",
    "    # Compute Euclidean distance between nodes for each edge\n",
    "    distances = torch.sqrt(torch.sum((node_features_start - node_features_end) ** 2, dim=1))\n",
    "    return distances"
   ]
  },
  {
   "cell_type": "markdown",
   "id": "b6772c9d",
   "metadata": {},
   "source": [
    "Also, we want to normalize the weight a bit for easier convergence. This is also the similar idea as in many spatial statistical models to use a weight based on distance-decay kernel  such as in KDE or GWR. Here, we use a Gaussian kernel. The degree of the decay can be controlled by the `sigma` parameter. Again, a hyper-parameter to tune.\n",
    "\n",
    "*Experiment with different sigma values.*"
   ]
  },
  {
   "cell_type": "code",
   "execution_count": 9,
   "id": "71a1bb99",
   "metadata": {},
   "outputs": [],
   "source": [
    "def distance_to_weight(distances, sigma=1):\n",
    "    # Convert distances to weights using a Gaussian kernel\n",
    "    weights = torch.exp(- (distances ** 2) / (2 * sigma ** 2))\n",
    "    return weights"
   ]
  },
  {
   "cell_type": "markdown",
   "id": "f8fb4735",
   "metadata": {},
   "source": [
    "### Train/Test split. \n",
    "\n",
    "This is a bit different for graph neurual networks compared to regular data becuase the sturcture of the data that we need to build the network based on the whole dataset. \n",
    "\n",
    "However, you can randomly mask part of the nodes in the graph  for test purpose."
   ]
  },
  {
   "cell_type": "code",
   "execution_count": 10,
   "id": "be15e971",
   "metadata": {},
   "outputs": [],
   "source": [
    "#Shuffle node incides\n",
    "indices = np.arange(num_nodes)\n",
    "np.random.shuffle(indices)\n",
    "split = int(num_nodes * 0.8)  # 80% of data for training\n",
    "\n",
    "train_mask = torch.zeros(num_nodes, dtype=torch.bool)\n",
    "test_mask = torch.zeros(num_nodes, dtype=torch.bool)\n",
    "\n",
    "#Apply the mask\n",
    "train_mask[indices[:split]] = True\n",
    "test_mask[indices[split:]] = True\n",
    "\n",
    "#Build the tensors\n",
    "x = torch.tensor(X_scaled, dtype=torch.float)\n",
    "y = torch.tensor(y_scaled, dtype=torch.float)\n",
    "\n",
    "#calculate the edge distances and weights\n",
    "distances = compute_edge_distances(x, edges)\n",
    "weights = distance_to_weight(distances)\n",
    "\n",
    "# Final data for GNN\n",
    "data = Data(x=x,y=y, edge_index=edges,edge_attr=weights,\n",
    "            train_mask=train_mask, test_mask=test_mask)"
   ]
  },
  {
   "cell_type": "code",
   "execution_count": 11,
   "id": "9ea4a2e2",
   "metadata": {},
   "outputs": [
    {
     "data": {
      "text/plain": [
       "Data(x=[3316, 8], edge_index=[2, 122542], edge_attr=[122542], y=[3316, 1], train_mask=[3316], test_mask=[3316])"
      ]
     },
     "execution_count": 11,
     "metadata": {},
     "output_type": "execute_result"
    }
   ],
   "source": [
    "data"
   ]
  },
  {
   "cell_type": "markdown",
   "id": "6082d54d",
   "metadata": {},
   "source": [
    "### Define the NN structure and layers\n",
    "\n",
    "Here we use some convolutional layers followed to two fully connected layers. Again, this is just a demo, you can make it much more complicated or simpler.\n",
    "\n",
    "*Experiment with different layer settings.*"
   ]
  },
  {
   "cell_type": "code",
   "execution_count": 12,
   "id": "c7056d76",
   "metadata": {},
   "outputs": [],
   "source": [
    "import torch\n",
    "import torch.nn.functional as F\n",
    "from torch_geometric.nn import GraphConv,Linear\n",
    "\n",
    "class GCNRegressor(torch.nn.Module):\n",
    "    def __init__(self, num_node_features, output_size=1):\n",
    "        super(GCNRegressor, self).__init__()\n",
    "        \n",
    "        # Two conv layers\n",
    "        self.conv1 = GraphConv(num_node_features, 64)\n",
    "        self.conv2 = GraphConv(64, 32)\n",
    "        \n",
    "        # Two fully-connected layers\n",
    "        self.fc1 = Linear(32, 16)\n",
    "        self.fc2 = Linear(16, 4)\n",
    "        \n",
    "        self.linear = Linear(4, output_size)\n",
    "\n",
    "    def forward(self, data):\n",
    "        x, edge_index, edge_attr = data.x, data.edge_index, data.edge_attr\n",
    "\n",
    "        #Feed forward your layers and apply Relu for hidden layer activation\n",
    "        x = self.conv1(x, edge_index, edge_weight=edge_attr)\n",
    "        x = F.relu(x)\n",
    "\n",
    "        x = self.conv2(x, edge_index, edge_weight=edge_attr)\n",
    "        x = F.relu(x)\n",
    "        \n",
    "        x = self.fc1(x)\n",
    "        x = F.relu(x)\n",
    "        \n",
    "        x = self.fc2(x)\n",
    "        x = F.relu(x)\n",
    "\n",
    "        # Linear layer for regression\n",
    "        x = self.linear(x)\n",
    "\n",
    "        return x\n"
   ]
  },
  {
   "cell_type": "code",
   "execution_count": 13,
   "id": "ddd57a98",
   "metadata": {},
   "outputs": [],
   "source": [
    "# Initialize the model\n",
    "model = GCNRegressor(num_node_features=X.shape[1])  # We have 8 housing features per node\n",
    "\n",
    "optimizer = torch.optim.Adam(model.parameters(), lr=0.0001)\n",
    "\n",
    "loss_func = torch.nn.MSELoss()"
   ]
  },
  {
   "cell_type": "code",
   "execution_count": 14,
   "id": "68ed4608",
   "metadata": {},
   "outputs": [
    {
     "name": "stdout",
     "output_type": "stream",
     "text": [
      "CPU times: user 6min 30s, sys: 4min 32s, total: 11min 2s\n",
      "Wall time: 1min 6s\n"
     ]
    }
   ],
   "source": [
    "%%time\n",
    "\n",
    "train_losses = []\n",
    "val_losses = []\n",
    "\n",
    "for epoch in range(2000):  # Example epoch range\n",
    "    model.train()\n",
    "    optimizer.zero_grad()\n",
    "    out = model(data)\n",
    "    #Apply train_mask to get the training nodes\n",
    "    loss = loss_func(out[train_mask], data.y[train_mask])\n",
    "    loss.backward()\n",
    "    optimizer.step()\n",
    "    \n",
    "    train_losses.append(loss.item())  # Store training loss\n",
    "    \n",
    "    # Validation phase\n",
    "    model.eval()\n",
    "    with torch.no_grad():\n",
    "        val_out = model(data)\n",
    "        \n",
    "        #Apply train_mask to get the testing nodes\n",
    "        val_loss = loss_func(out[test_mask], data.y[test_mask])\n",
    "        val_losses.append(val_loss.item())  # Store validation loss\n",
    "    "
   ]
  },
  {
   "cell_type": "markdown",
   "id": "567c81f9",
   "metadata": {},
   "source": [
    "### Evaluate model performance"
   ]
  },
  {
   "cell_type": "code",
   "execution_count": 15,
   "id": "ed9bd600",
   "metadata": {},
   "outputs": [
    {
     "data": {
      "image/png": "[encoded data removed]",
      "text/plain": [
       "<Figure size 1000x500 with 1 Axes>"
      ]
     },
     "metadata": {},
     "output_type": "display_data"
    }
   ],
   "source": [
    "# Plotting\n",
    "plt.figure(figsize=(10, 5))\n",
    "plt.plot(train_losses, label='Training Loss')\n",
    "plt.plot(val_losses, label='Test Loss')\n",
    "plt.title('Loss Curves')\n",
    "plt.xlabel('Epochs')\n",
    "plt.ylabel('Loss')\n",
    "\n",
    "#plt.ylim(0,1)\n",
    "plt.legend()\n",
    "plt.show()"
   ]
  },
  {
   "cell_type": "markdown",
   "id": "d8721af9",
   "metadata": {},
   "source": []
  },
  {
   "cell_type": "code",
   "execution_count": 16,
   "id": "aeba847e",
   "metadata": {},
   "outputs": [
    {
     "name": "stdout",
     "output_type": "stream",
     "text": [
      "Model Train R2: 0.8546261277808451\n",
      "Model Test R2: 0.772122813680529\n"
     ]
    }
   ],
   "source": [
    "from sklearn.metrics import r2_score\n",
    "\n",
    "print(\"Model Train R2:\",r2_score(data.y[train_mask].numpy(), val_out[train_mask].numpy()))\n",
    "print(\"Model Test R2:\",r2_score(data.y[test_mask].numpy(), val_out[test_mask].numpy()))"
   ]
  },
  {
   "cell_type": "code",
   "execution_count": 17,
   "id": "d13e20f3",
   "metadata": {},
   "outputs": [],
   "source": [
    "y_pred = val_out[test_mask].numpy().reshape(-1,1)\n",
    "y_true = data.y[test_mask].numpy().reshape(-1,1)"
   ]
  },
  {
   "cell_type": "code",
   "execution_count": 18,
   "id": "8f7170aa",
   "metadata": {},
   "outputs": [
    {
     "data": {
      "text/plain": [
       "[<matplotlib.lines.Line2D at 0x2b6b777d0>]"
      ]
     },
     "execution_count": 18,
     "metadata": {},
     "output_type": "execute_result"
    },
    {
     "data": {
      "image/png": "[encoded data removed]",
      "text/plain": [
       "<Figure size 640x480 with 1 Axes>"
      ]
     },
     "metadata": {},
     "output_type": "display_data"
    }
   ],
   "source": [
    "\n",
    "plt.scatter(scaler.inverse_transform(y_true), scaler.inverse_transform(y_pred))\n",
    "\n",
    "plt.ylabel(\"Predicted log10(price)\")\n",
    "plt.xlabel(\"Actual log10(price)\")\n",
    "plt.plot([5,6.75],[5,6.75],'--',color='red')"
   ]
  },
  {
   "cell_type": "code",
   "execution_count": null,
   "id": "076bad8d",
   "metadata": {},
   "outputs": [],
   "source": []
  }
 ],
 "metadata": {
  "kernelspec": {
   "display_name": "Python 3 (ipykernel)",
   "language": "python",
   "name": "python3"
  },
  "language_info": {
   "codemirror_mode": {
    "name": "ipython",
    "version": 3
   },
   "file_extension": ".py",
   "mimetype": "text/x-python",
   "name": "python",
   "nbconvert_exporter": "python",
   "pygments_lexer": "ipython3",
   "version": "3.11.5"
  }
 },
 "nbformat": 4,
 "nbformat_minor": 5
}
