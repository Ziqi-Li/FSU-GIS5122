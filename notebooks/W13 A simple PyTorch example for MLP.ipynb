{
 "cells": [
  {
   "cell_type": "markdown",
   "id": "f3f33679",
   "metadata": {},
   "source": [
    "## A simple example with training a basic MLP with PyTorch\n",
    "\n",
    "Follow this guide if you want to install PyTorch locally: https://pytorch.org/get-started/locally/"
   ]
  },
  {
   "cell_type": "code",
   "execution_count": 1,
   "id": "fa698d79",
   "metadata": {},
   "outputs": [],
   "source": [
    "import numpy as np\n",
    "import pandas as pd\n",
    "import matplotlib.pyplot as plt\n",
    "from sklearn.model_selection import train_test_split"
   ]
  },
  {
   "cell_type": "markdown",
   "id": "ba0c07a1",
   "metadata": {},
   "source": [
    "These are the PyToch modules"
   ]
  },
  {
   "cell_type": "code",
   "execution_count": 2,
   "id": "a692dc3e",
   "metadata": {},
   "outputs": [],
   "source": [
    "import torch\n",
    "import torch.nn as nn\n",
    "import torch.optim as optim\n",
    "from torch.utils.data import DataLoader, TensorDataset"
   ]
  },
  {
   "cell_type": "markdown",
   "id": "e059c4d4",
   "metadata": {},
   "source": [
    "We will be using the same house price dataset."
   ]
  },
  {
   "cell_type": "code",
   "execution_count": 3,
   "id": "3a4d2d4f",
   "metadata": {},
   "outputs": [],
   "source": [
    "houses = pd.read_csv(\"https://raw.githubusercontent.com/Ziqi-Li/GIS5122/main/data/seattle_data_cleaned.csv\")"
   ]
  },
  {
   "cell_type": "code",
   "execution_count": 4,
   "id": "b6275edd",
   "metadata": {},
   "outputs": [],
   "source": [
    "sampled = houses.sample(frac=0.2,random_state=1)\n",
    "\n",
    "y = sampled.log_10_price.values.reshape(-1,1)\n",
    "\n",
    "X = sampled[['bathrooms', 'sqft_living', 'sqft_lot', 'grade',\n",
    "       'condition', 'waterfront', 'view', 'age', 'UTM_X', 'UTM_Y']]"
   ]
  },
  {
   "cell_type": "code",
   "execution_count": null,
   "id": "d004050c",
   "metadata": {},
   "outputs": [],
   "source": []
  },
  {
   "cell_type": "markdown",
   "id": "c98da359",
   "metadata": {},
   "source": [
    "Randomly split the data into 80% for training and 20% for testing."
   ]
  },
  {
   "cell_type": "code",
   "execution_count": 5,
   "id": "3a0cb658",
   "metadata": {},
   "outputs": [],
   "source": [
    "X_train, X_test, y_train, y_test = train_test_split(X, y, test_size=0.2, random_state=11)"
   ]
  },
  {
   "cell_type": "code",
   "execution_count": null,
   "id": "87b794db",
   "metadata": {},
   "outputs": [],
   "source": []
  },
  {
   "cell_type": "markdown",
   "id": "63a7327f",
   "metadata": {},
   "source": [
    " For NN based models, we often need to apply a 'StandardScaler' to the data. Neurual nets usually are sensitive to the scale of the data so you need to standardize (or by other transformations) them. This is because the gradient descent nature of the optimization algorithm makes it sensitive to weights attached to the data that are overly small or large."
   ]
  },
  {
   "cell_type": "code",
   "execution_count": 6,
   "id": "13846b59",
   "metadata": {},
   "outputs": [],
   "source": [
    "from sklearn.preprocessing import StandardScaler\n",
    "# Scale the features\n",
    "\n",
    "#Here we use a standard scaler that will make the data have mean of 0 and std of 1\n",
    "scaler = StandardScaler()\n",
    "X_train_scaled = scaler.fit_transform(X_train)\n",
    "X_test_scaled = scaler.transform(X_test)"
   ]
  },
  {
   "cell_type": "markdown",
   "id": "f36b6ed2",
   "metadata": {},
   "source": [
    "In pytorch, data are stored in a special data structure which is called `tensor`, this is not much different than a `numpy` array."
   ]
  },
  {
   "cell_type": "code",
   "execution_count": 7,
   "id": "1796e69b",
   "metadata": {},
   "outputs": [],
   "source": [
    "# Convert the data into PyTorch tensors\n",
    "X_train_tensor = torch.tensor(X_train_scaled, dtype=torch.float32)\n",
    "y_train_tensor = torch.tensor(y_train, dtype=torch.float32)\n",
    "\n",
    "X_test_tensor = torch.tensor(X_test_scaled, dtype=torch.float32)\n",
    "y_test_tensor = torch.tensor(y_test, dtype=torch.float32)\n"
   ]
  },
  {
   "cell_type": "markdown",
   "id": "292d2a06",
   "metadata": {},
   "source": [
    "It is often also convinent to use a `DataLoader` to feed/split data into the NN."
   ]
  },
  {
   "cell_type": "code",
   "execution_count": 8,
   "id": "2bf21548",
   "metadata": {},
   "outputs": [],
   "source": [
    "# Define a DataLoader\n",
    "train_data = TensorDataset(X_train_tensor, y_train_tensor)\n",
    "test_data = TensorDataset(X_test_tensor, y_test_tensor)\n",
    "\n",
    "\n",
    "\n",
    "\n"
   ]
  },
  {
   "cell_type": "markdown",
   "id": "90521c5d",
   "metadata": {},
   "source": [
    "### Define a batch size, typical batch sizes are: 32, 64, 128, 256 or 512.\n",
    "\n",
    "You also have the option to shuffle the data before splitting into batches. It is **recommanded for the training data** but **not for the testing data**. This is because shuffling training data can break the order in the data every epoch for a more robust model. However, when evaluating model on the test dataset, you may want to evaluate performance on the same fixed test dataset."
   ]
  },
  {
   "cell_type": "code",
   "execution_count": 9,
   "id": "87a21ef7",
   "metadata": {},
   "outputs": [],
   "source": [
    "train_loader = DataLoader(train_data, batch_size=128,shuffle=True)\n",
    "\n",
    "test_loader = DataLoader(test_data, batch_size=128, shuffle=False)"
   ]
  },
  {
   "cell_type": "markdown",
   "id": "e6f2db00",
   "metadata": {},
   "source": [
    "### Define the MLP model\n",
    "\n",
    "Usually an NN is defined in a class for modular re-use purpose.\n",
    "\n",
    "Here we define a NN with the following structure:\n",
    "\n",
    "10 (Input, our Xs) X 8(Hidden Layer 1) X 4(Hidden Layer 2) X 1 (Output, y)\n",
    "\n",
    "This is saying we have 10 features for the house to predict the house's value. Hidden layers can defined with other parameters.\n",
    "\n",
    "We are gonna use ReLu for hidden layer activation functions, and linear (no) for the activation function before the final output."
   ]
  },
  {
   "cell_type": "code",
   "execution_count": 10,
   "id": "233efff2",
   "metadata": {},
   "outputs": [],
   "source": [
    "\n",
    "class RegressionMLP(nn.Module):\n",
    "    def __init__(self, input_size):\n",
    "        #Note: super() is a built-in function used to call methods defined in the parent class\n",
    "        #Here we inherit the __init__() function from nn.Module.\n",
    "        super(RegressionMLP, self).__init__()\n",
    "    \n",
    "        #NN sturtucre\n",
    "        #input_size = # of features\n",
    "        #10 X 8 X 4 X 1\n",
    "        #fc refers to fully-connected layer\n",
    "        self.fc1 = nn.Linear(input_size, 16)\n",
    "        self.fc2 = nn.Linear(16, 8)\n",
    "        self.fc3 = nn.Linear(8, 1)\n",
    "    \n",
    "    def forward(self, x):\n",
    "        #activation function -> ReLu\n",
    "        f = nn.ReLU()\n",
    "        x = f(self.fc1(x))\n",
    "        x = f(self.fc2(x))\n",
    "        # No activation function for the output layer in regression\n",
    "        x = self.fc3(x)  \n",
    "        return x"
   ]
  },
  {
   "cell_type": "markdown",
   "id": "2d7cf55f",
   "metadata": {},
   "source": []
  },
  {
   "cell_type": "code",
   "execution_count": 11,
   "id": "f2a3a1a5",
   "metadata": {},
   "outputs": [],
   "source": [
    "#define the model with our data\n",
    "model = RegressionMLP(X_train.shape[1])\n",
    "\n",
    "# Loss function - mean squared error\n",
    "criterion = nn.MSELoss()\n",
    "\n",
    "#As mentioned in class, adam is a pretty good optimizer, and learning rate=0.001 is a good starting point.\n",
    "optimizer = optim.Adam(model.parameters(), lr=0.001)\n"
   ]
  },
  {
   "cell_type": "markdown",
   "id": "acc0b690",
   "metadata": {},
   "source": [
    "Now we train our model. This involves running the NN forward and backward for # of epochs time. And we store the training loss and testing loss."
   ]
  },
  {
   "cell_type": "code",
   "execution_count": 12,
   "id": "0ca91490",
   "metadata": {},
   "outputs": [
    {
     "name": "stdout",
     "output_type": "stream",
     "text": [
      "CPU times: user 11.1 s, sys: 86.4 ms, total: 11.2 s\n",
      "Wall time: 11.2 s\n"
     ]
    }
   ],
   "source": [
    "%%time\n",
    "\n",
    "train_losses = []\n",
    "val_losses = []\n",
    "\n",
    "#Number of epochs\n",
    "epochs = 1000\n",
    "for epoch in range(epochs):\n",
    "    #turn on training mode\n",
    "    model.train()\n",
    "    train_loss = 0\n",
    "    #For each batch in our training dataset\n",
    "    for X_batch, y_batch in train_loader:\n",
    "        #reset gradients\n",
    "        optimizer.zero_grad()\n",
    "        #forward to get prediction\n",
    "        y_pred = model(X_batch)\n",
    "        #calculate loss\n",
    "        loss = criterion(y_pred, y_batch)\n",
    "        #backward to update weights/biases\n",
    "        loss.backward()\n",
    "        optimizer.step()\n",
    "        #sum over loss for all the batches.\n",
    "        train_loss += loss.item()\n",
    "    \n",
    "    #store the average loss\n",
    "    train_losses.append(train_loss / len(train_loader))\n",
    "\n",
    "    \n",
    "    #turn on evaluation mode\n",
    "    model.eval()\n",
    "    val_loss = 0\n",
    "    with torch.no_grad():\n",
    "        for X_batch, y_batch in test_loader:\n",
    "            #forward to get predicton\n",
    "            y_pred = model(X_batch)\n",
    "            #calculate loss on test data\n",
    "            loss = criterion(y_pred, y_batch)\n",
    "            val_loss += loss.item()\n",
    "    #store the average loss\n",
    "    val_losses.append(val_loss / len(test_loader))\n",
    "\n",
    "    #print(f\"Epoch {epoch+1}, Train Loss: {train_losses[-1]}, Val Loss: {val_losses[-1]}\")"
   ]
  },
  {
   "cell_type": "markdown",
   "id": "dcb417d0",
   "metadata": {},
   "source": [
    "It is also pretty often to plot loss vs. epoch. It is expected that the model will converge and further epochs will not improve model performance on the test dataset."
   ]
  },
  {
   "cell_type": "code",
   "execution_count": 13,
   "id": "71fe4be6",
   "metadata": {},
   "outputs": [
    {
     "data": {
      "image/png": "[encoded data removed]",
      "text/plain": [
       "<Figure size 1000x500 with 1 Axes>"
      ]
     },
     "metadata": {},
     "output_type": "display_data"
    }
   ],
   "source": [
    "# Plotting\n",
    "plt.figure(figsize=(10, 5))\n",
    "plt.plot(train_losses, label='Training Loss')\n",
    "plt.plot(val_losses, label='Test Loss')\n",
    "plt.title('Loss Curves')\n",
    "plt.xlabel('Epochs')\n",
    "plt.ylabel('Loss')\n",
    "#plt.xlim(0,200)\n",
    "plt.ylim(0,0.02)\n",
    "plt.legend()\n",
    "plt.show()"
   ]
  },
  {
   "cell_type": "markdown",
   "id": "ec2dfe76",
   "metadata": {},
   "source": [
    "We can see that the test loss stays the same after ~400 epochs, while training loss continues to decrease slightly, this is an indication of overfitting if having too many epochs."
   ]
  },
  {
   "cell_type": "markdown",
   "id": "e195e24b",
   "metadata": {},
   "source": [
    "Calculate R2 for the test data."
   ]
  },
  {
   "cell_type": "code",
   "execution_count": 14,
   "id": "dadd1bba",
   "metadata": {},
   "outputs": [],
   "source": [
    "from sklearn.metrics import r2_score"
   ]
  },
  {
   "cell_type": "code",
   "execution_count": 15,
   "id": "fc26ca64",
   "metadata": {},
   "outputs": [
    {
     "name": "stdout",
     "output_type": "stream",
     "text": [
      "Model R2: 0.8537869393311385\n"
     ]
    }
   ],
   "source": [
    "model.eval()  # Set the model to evaluation mode\n",
    "with torch.no_grad():  # Disable gradient computation\n",
    "    predictions = model(X_test_tensor)\n",
    "    print(\"Model R2:\",r2_score(y_test_tensor, predictions.numpy().reshape(-1)))"
   ]
  },
  {
   "cell_type": "code",
   "execution_count": 16,
   "id": "cd9f50d8",
   "metadata": {},
   "outputs": [
    {
     "name": "stdout",
     "output_type": "stream",
     "text": [
      "Model R2: 0.8891486189149684\n"
     ]
    }
   ],
   "source": [
    "model.eval()  # Set the model to evaluation mode\n",
    "with torch.no_grad():  # Disable gradient computation\n",
    "    predictions = model(X_train_tensor)\n",
    "    print(\"Model R2:\",r2_score(y_train_tensor, predictions.numpy().reshape(-1)))"
   ]
  },
  {
   "cell_type": "code",
   "execution_count": null,
   "id": "d31dd2eb",
   "metadata": {},
   "outputs": [],
   "source": []
  },
  {
   "cell_type": "code",
   "execution_count": null,
   "id": "121cd2ba",
   "metadata": {},
   "outputs": [],
   "source": []
  }
 ],
 "metadata": {
  "kernelspec": {
   "display_name": "Python 3 (ipykernel)",
   "language": "python",
   "name": "python3"
  },
  "language_info": {
   "codemirror_mode": {
    "name": "ipython",
    "version": 3
   },
   "file_extension": ".py",
   "mimetype": "text/x-python",
   "name": "python",
   "nbconvert_exporter": "python",
   "pygments_lexer": "ipython3",
   "version": "3.11.5"
  }
 },
 "nbformat": 4,
 "nbformat_minor": 5
}
