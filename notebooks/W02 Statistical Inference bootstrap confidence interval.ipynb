{
 "cells": [
  {
   "cell_type": "markdown",
   "metadata": {},
   "source": [
    "### Statistical Inference: Bootstrap Confidence Interval\n",
    "\n",
    "This notebook demostrates how to construct confidence interval of a statistic using the bootstrap method. We will also examine the coverage probability of CI.\n",
    "\n",
    "- Construct Bootstrap Confidence Interval\n",
    "- Check the coverage probability\n",
    "- Bootstrap CI for correlation coefficient"
   ]
  },
  {
   "cell_type": "code",
   "execution_count": 1,
   "metadata": {},
   "outputs": [],
   "source": [
    "import numpy as np\n",
    "import matplotlib.pyplot as plt"
   ]
  },
  {
   "cell_type": "code",
   "execution_count": 2,
   "metadata": {},
   "outputs": [
    {
     "data": {
      "text/plain": [
       "array([24.29955515, 26.44440477, 14.36728805, 42.13588748,  9.47609137,\n",
       "       -0.08571358, 31.07775483, 23.72450737, 32.61083947, 23.72824199,\n",
       "        9.30319172, 34.93694884,  0.25340004, 23.21862046, 24.12873151,\n",
       "        8.1867494 , 16.7527962 , 22.79533444, 17.51773743,  9.79280763,\n",
       "       11.24729501,  3.08123804, 26.31424041, 31.38830525, 15.04772561,\n",
       "       34.38238961, 32.25606438, 17.969145  , 20.11554963, 11.79351647,\n",
       "       16.15829909, 38.03830239, 22.30947246, 25.43237254, 24.67149197,\n",
       "       24.57517686, 16.87400119, 15.79709249, 19.05141854,  1.18961636,\n",
       "        6.98869421, 12.4038949 , 13.84228829, 13.54433253,  6.08082857,\n",
       "        6.38539296, 13.88391526, 11.87613397, 22.3770229 , 25.93199593,\n",
       "       34.77486287, 32.07602857, 25.10844499, -0.84118767, 26.29896417,\n",
       "       28.43441258, 11.19402986, 20.59536346, 17.56830735, 13.8418428 ,\n",
       "       29.58029312, 24.19844536, 16.87089374, 22.17170355, 23.98587404,\n",
       "       12.46117274, 28.17004184, 27.69101527, 25.23572928, 20.9582833 ,\n",
       "       -0.14460301, 18.83603168, 13.26594338,  4.25167133, 19.23244027,\n",
       "       11.29358597,  2.73892302, 34.73499105, 13.64205101, 22.45609746,\n",
       "       14.52005079, 16.81820594, 23.57460163, 27.63926906, 18.06120289,\n",
       "       35.19215484, -2.38065578,  9.75135765, 30.39977907, 33.26631626,\n",
       "       32.70869475,  9.11905857, 19.08912054, 38.06941794,  5.68826724,\n",
       "       16.11857716, 19.8771658 , 14.02720151, 18.71571836, 22.91210907])"
      ]
     },
     "execution_count": 2,
     "metadata": {},
     "output_type": "execute_result"
    }
   ],
   "source": [
    "#Generate some random data\n",
    "\n",
    "\n",
    "data = np.random.randn(100)*10 + 20\n",
    "\n",
    "data"
   ]
  },
  {
   "cell_type": "code",
   "execution_count": 3,
   "metadata": {},
   "outputs": [
    {
     "data": {
      "text/plain": [
       "(array([ 8.,  6., 19., 20., 22., 10., 12.,  3.]),\n",
       " array([-2.38065578,  3.18391212,  8.74848003, 14.31304794, 19.87761585,\n",
       "        25.44218376, 31.00675166, 36.57131957, 42.13588748]),\n",
       " <BarContainer object of 8 artists>)"
      ]
     },
     "execution_count": 3,
     "metadata": {},
     "output_type": "execute_result"
    },
    {
     "data": {
      "image/png": "[encoded data removed]",
      "text/plain": [
       "<Figure size 640x480 with 1 Axes>"
      ]
     },
     "metadata": {},
     "output_type": "display_data"
    }
   ],
   "source": [
    "plt.hist(data,bins=8)"
   ]
  },
  {
   "cell_type": "code",
   "execution_count": 4,
   "metadata": {},
   "outputs": [
    {
     "name": "stdout",
     "output_type": "stream",
     "text": [
      "Population mean is: 19.195216540763408\n",
      "Population variance is: 98.34447167519873\n"
     ]
    }
   ],
   "source": [
    "print(\"Population mean is:\", np.mean(data))\n",
    "\n",
    "print(\"Population variance is:\", np.var(data))"
   ]
  },
  {
   "cell_type": "code",
   "execution_count": 5,
   "metadata": {},
   "outputs": [
    {
     "data": {
      "text/plain": [
       "array([24.57517686, 13.54433253, 22.45609746, 29.58029312, 24.19844536,\n",
       "       23.98587404, 14.36728805, 31.38830525, 14.02720151,  6.08082857,\n",
       "       20.11554963, 22.91210907, 19.8771658 , -0.84118767, 35.19215484,\n",
       "       32.61083947, 19.8771658 , 13.64205101, 34.38238961,  6.08082857,\n",
       "       14.52005079, 25.93199593, 11.87613397, 31.07775483,  9.75135765,\n",
       "       13.8418428 , 25.10844499, 20.9582833 ,  5.68826724,  8.1867494 ,\n",
       "       33.26631626, 14.52005079, 19.08912054, 22.30947246, 38.06941794,\n",
       "        9.30319172, 26.31424041, 31.07775483, -0.08571358, 24.67149197,\n",
       "       19.23244027, 32.25606438, 25.23572928, 32.25606438, 23.72824199,\n",
       "       23.98587404, 13.64205101, -0.14460301, 19.8771658 , 32.07602857,\n",
       "       24.19844536, 12.46117274, 25.93199593, 28.43441258, 23.72450737,\n",
       "       14.36728805, 14.02720151, 17.969145  , 14.52005079, 19.8771658 ])"
      ]
     },
     "execution_count": 5,
     "metadata": {},
     "output_type": "execute_result"
    }
   ],
   "source": [
    "#One sample with 60 numbers, this is what we have in hand.\n",
    "\n",
    "sample_60 = np.random.choice(data, 60, replace=True)\n",
    "\n",
    "sample_60"
   ]
  },
  {
   "cell_type": "markdown",
   "metadata": {},
   "source": [
    "1. Construct Bootstrap CI"
   ]
  },
  {
   "cell_type": "code",
   "execution_count": 6,
   "metadata": {},
   "outputs": [],
   "source": [
    "#Define a bootstrap function:\n",
    "def bootstrap(sample):\n",
    "    \n",
    "    bootstrap_mean_list = []\n",
    "    \n",
    "    for i in range(10000):\n",
    "        #generate a re-sample with the original sample size, with replacement\n",
    "        subsample = np.random.choice(sample, len(sample), replace=True)\n",
    "        \n",
    "        #compute sub-sample mean\n",
    "        subsample_mean = np.mean(subsample)\n",
    "\n",
    "        bootstrap_mean_list.append(subsample_mean)\n",
    "    \n",
    "    #Calculatet the mean and std of the bootstrap sampling distribution\n",
    "    bootstrap_mean = np.mean(bootstrap_mean_list)\n",
    "    boostrap_std = np.std(bootstrap_mean_list)\n",
    "    \n",
    "    # mean +- 2*std for an approximate 95% CI.\n",
    "    CI = [(bootstrap_mean - 2*boostrap_std), (bootstrap_mean + 2*boostrap_std)]\n",
    "    \n",
    "    return CI,bootstrap_mean_list\n",
    "    "
   ]
  },
  {
   "cell_type": "code",
   "execution_count": null,
   "metadata": {},
   "outputs": [],
   "source": []
  },
  {
   "cell_type": "code",
   "execution_count": 7,
   "metadata": {},
   "outputs": [],
   "source": [
    "#Do the same thing for the percentile-based method:\n",
    "def bootstrap_perc(sample):\n",
    "    \n",
    "    bootstrap_mean_list = []\n",
    "    \n",
    "    for i in range(1000):\n",
    "        #generate a re-sample with the original sample size, with replacement\n",
    "        subsample = np.random.choice(sample, len(sample), replace=True)\n",
    "        \n",
    "        #compute sample mean\n",
    "        subsample_mean = np.mean(subsample)\n",
    "\n",
    "        bootstrap_mean_list.append(subsample_mean)\n",
    "    \n",
    "    #Get the lower and upper bound for the middle 95%:\n",
    "    percentile_CI = [np.percentile(bootstrap_mean_list, 2.5), \n",
    "          np.percentile(bootstrap_mean_list, 97.5)]\n",
    "    \n",
    "    return percentile_CI,bootstrap_mean_list\n",
    "    "
   ]
  },
  {
   "cell_type": "code",
   "execution_count": 8,
   "metadata": {},
   "outputs": [],
   "source": [
    "#Define a anlytical based function:\n",
    "def anlytical(sample):\n",
    "    \n",
    "    sample_mean = np.mean(sample)\n",
    "    \n",
    "    err_of_margin = 2*np.std(sample)/np.sqrt(len(sample))\n",
    "    \n",
    "    # mean +- 2*std for an approximate 95% CI.\n",
    "    CI_lower = sample_mean - err_of_margin\n",
    "    CI_upper = sample_mean + err_of_margin\n",
    "    \n",
    "    CI = [CI_lower, CI_upper]\n",
    "    \n",
    "    return CI"
   ]
  },
  {
   "cell_type": "markdown",
   "metadata": {},
   "source": [
    "Compare the bootstrap vs. analytical CI:"
   ]
  },
  {
   "cell_type": "code",
   "execution_count": 9,
   "metadata": {},
   "outputs": [],
   "source": [
    "bootstrap_CI, bootstrap_mean_list = bootstrap(sample_60)\n",
    "bootstrap_CI_perc, bootstrap_mean_list_perc = bootstrap_perc(sample_60)\n",
    "analytical_CI = anlytical(sample_60)"
   ]
  },
  {
   "cell_type": "code",
   "execution_count": 10,
   "metadata": {},
   "outputs": [
    {
     "name": "stdout",
     "output_type": "stream",
     "text": [
      "95% analytical CI:  [17.80310863501788, 22.569743864386272]\n",
      "95% bootstrap CI:  [17.7992414635296, 22.57299843927282]\n",
      "95% percentile-based bootstrap CI:  [17.923184204643533, 22.452141595638295]\n"
     ]
    }
   ],
   "source": [
    "print(\"95% analytical CI: \", analytical_CI)\n",
    "print(\"95% bootstrap CI: \", bootstrap_CI)\n",
    "print(\"95% percentile-based bootstrap CI: \", bootstrap_CI_perc)"
   ]
  },
  {
   "cell_type": "markdown",
   "metadata": {},
   "source": [
    "2. Testing the coverage of the 95% CI for \n",
    "- Bootstrap\n",
    "- Percentile based Bootstrap\n",
    "- Analytical"
   ]
  },
  {
   "cell_type": "code",
   "execution_count": 11,
   "metadata": {},
   "outputs": [
    {
     "name": "stdout",
     "output_type": "stream",
     "text": [
      "CPU times: user 1min 16s, sys: 234 ms, total: 1min 16s\n",
      "Wall time: 1min 17s\n"
     ]
    }
   ],
   "source": [
    "%%time\n",
    "#generate samples for multiple times\n",
    "counter = 0\n",
    "counter_perc = 0\n",
    "true_mean = np.mean(data)\n",
    "\n",
    "for i in range(1000):\n",
    "    #generate a sample with 60 numbers\n",
    "    sample = np.random.choice(data, 60, replace=True)\n",
    "    \n",
    "    #For each sample, we compute the two CIs:\n",
    "    ci,_ = bootstrap(sample)\n",
    "    perc_ci,_ = bootstrap_perc(sample)\n",
    "    analytical_ci = anlytical(sample)\n",
    "    \n",
    "    #Check the coverage\n",
    "    if ci[0] <= true_mean <= ci[1]:\n",
    "        counter = counter + 1\n",
    "        \n",
    "    if perc_ci[0] <= true_mean <= perc_ci[1]:\n",
    "        counter_perc = counter_perc + 1"
   ]
  },
  {
   "cell_type": "code",
   "execution_count": 12,
   "metadata": {},
   "outputs": [
    {
     "name": "stdout",
     "output_type": "stream",
     "text": [
      "Number of times 95% bootstrap CI covered the population mean: 953 out of 1000\n"
     ]
    }
   ],
   "source": [
    "print(\"Number of times 95% bootstrap CI covered the population mean:\", \n",
    "      counter,\"out of 1000\")"
   ]
  },
  {
   "cell_type": "code",
   "execution_count": 13,
   "metadata": {},
   "outputs": [
    {
     "name": "stdout",
     "output_type": "stream",
     "text": [
      "Number of times 95% percentile-based bootstrap CI covered the population mean: 953 out of 1000\n"
     ]
    }
   ],
   "source": [
    "print(\"Number of times 95% percentile-based bootstrap CI covered the population mean:\", \n",
    "      counter,\"out of 1000\")"
   ]
  },
  {
   "cell_type": "code",
   "execution_count": 14,
   "metadata": {},
   "outputs": [
    {
     "name": "stdout",
     "output_type": "stream",
     "text": [
      "Number of times 95% analytical CI covered the population mean: 953 out of 1000\n"
     ]
    }
   ],
   "source": [
    "print(\"Number of times 95% analytical CI covered the population mean:\", \n",
    "      counter,\"out of 1000\")"
   ]
  },
  {
   "cell_type": "code",
   "execution_count": null,
   "metadata": {},
   "outputs": [],
   "source": []
  },
  {
   "cell_type": "code",
   "execution_count": null,
   "metadata": {},
   "outputs": [],
   "source": []
  },
  {
   "cell_type": "code",
   "execution_count": null,
   "metadata": {},
   "outputs": [],
   "source": []
  },
  {
   "cell_type": "code",
   "execution_count": null,
   "metadata": {},
   "outputs": [],
   "source": []
  },
  {
   "cell_type": "code",
   "execution_count": null,
   "metadata": {},
   "outputs": [],
   "source": []
  },
  {
   "cell_type": "markdown",
   "metadata": {},
   "source": [
    "3. Bootstrap confidence interval for correlation coefficients"
   ]
  },
  {
   "cell_type": "code",
   "execution_count": 15,
   "metadata": {},
   "outputs": [],
   "source": [
    "import pandas as pd\n",
    "url = 'https://raw.githubusercontent.com/mwaskom/seaborn-data/master/mpg.csv'\n",
    "df = pd.read_csv(url)\n",
    "df = df.dropna()"
   ]
  },
  {
   "cell_type": "code",
   "execution_count": 16,
   "metadata": {},
   "outputs": [
    {
     "data": {
      "text/plain": [
       "Text(0, 0.5, 'Acceleration')"
      ]
     },
     "execution_count": 16,
     "metadata": {},
     "output_type": "execute_result"
    },
    {
     "data": {
      "image/png": "[encoded data removed]",
      "text/plain": [
       "<Figure size 640x480 with 1 Axes>"
      ]
     },
     "metadata": {},
     "output_type": "display_data"
    }
   ],
   "source": [
    "from scipy.stats import *\n",
    "\n",
    "plt.scatter(df.horsepower, df.acceleration)\n",
    "plt.xlabel(\"Horsepower\")\n",
    "plt.ylabel(\"Acceleration\")"
   ]
  },
  {
   "cell_type": "code",
   "execution_count": 17,
   "metadata": {},
   "outputs": [
    {
     "name": "stdout",
     "output_type": "stream",
     "text": [
      "Pearson: PearsonRResult(statistic=-0.6891955103342371, pvalue=1.5818862297811214e-56)\n"
     ]
    }
   ],
   "source": [
    "print(\"Pearson:\",pearsonr(df.horsepower, df.acceleration))"
   ]
  },
  {
   "cell_type": "code",
   "execution_count": null,
   "metadata": {},
   "outputs": [],
   "source": []
  },
  {
   "cell_type": "code",
   "execution_count": 18,
   "metadata": {},
   "outputs": [
    {
     "data": {
      "text/html": [
       "<div>\n",
       "<style scoped>\n",
       "    .dataframe tbody tr th:only-of-type {\n",
       "        vertical-align: middle;\n",
       "    }\n",
       "\n",
       "    .dataframe tbody tr th {\n",
       "        vertical-align: top;\n",
       "    }\n",
       "\n",
       "    .dataframe thead th {\n",
       "        text-align: right;\n",
       "    }\n",
       "</style>\n",
       "<table border=\"1\" class=\"dataframe\">\n",
       "  <thead>\n",
       "    <tr style=\"text-align: right;\">\n",
       "      <th></th>\n",
       "      <th>mpg</th>\n",
       "      <th>cylinders</th>\n",
       "      <th>displacement</th>\n",
       "      <th>horsepower</th>\n",
       "      <th>weight</th>\n",
       "      <th>acceleration</th>\n",
       "      <th>model_year</th>\n",
       "      <th>origin</th>\n",
       "      <th>name</th>\n",
       "    </tr>\n",
       "  </thead>\n",
       "  <tbody>\n",
       "    <tr>\n",
       "      <th>239</th>\n",
       "      <td>30.0</td>\n",
       "      <td>4</td>\n",
       "      <td>97.0</td>\n",
       "      <td>67.0</td>\n",
       "      <td>1985</td>\n",
       "      <td>16.4</td>\n",
       "      <td>77</td>\n",
       "      <td>japan</td>\n",
       "      <td>subaru dl</td>\n",
       "    </tr>\n",
       "    <tr>\n",
       "      <th>201</th>\n",
       "      <td>18.5</td>\n",
       "      <td>6</td>\n",
       "      <td>250.0</td>\n",
       "      <td>110.0</td>\n",
       "      <td>3645</td>\n",
       "      <td>16.2</td>\n",
       "      <td>76</td>\n",
       "      <td>usa</td>\n",
       "      <td>pontiac ventura sj</td>\n",
       "    </tr>\n",
       "    <tr>\n",
       "      <th>103</th>\n",
       "      <td>11.0</td>\n",
       "      <td>8</td>\n",
       "      <td>400.0</td>\n",
       "      <td>150.0</td>\n",
       "      <td>4997</td>\n",
       "      <td>14.0</td>\n",
       "      <td>73</td>\n",
       "      <td>usa</td>\n",
       "      <td>chevrolet impala</td>\n",
       "    </tr>\n",
       "    <tr>\n",
       "      <th>39</th>\n",
       "      <td>14.0</td>\n",
       "      <td>8</td>\n",
       "      <td>400.0</td>\n",
       "      <td>175.0</td>\n",
       "      <td>4464</td>\n",
       "      <td>11.5</td>\n",
       "      <td>71</td>\n",
       "      <td>usa</td>\n",
       "      <td>pontiac catalina brougham</td>\n",
       "    </tr>\n",
       "    <tr>\n",
       "      <th>293</th>\n",
       "      <td>31.9</td>\n",
       "      <td>4</td>\n",
       "      <td>89.0</td>\n",
       "      <td>71.0</td>\n",
       "      <td>1925</td>\n",
       "      <td>14.0</td>\n",
       "      <td>79</td>\n",
       "      <td>europe</td>\n",
       "      <td>vw rabbit custom</td>\n",
       "    </tr>\n",
       "    <tr>\n",
       "      <th>...</th>\n",
       "      <td>...</td>\n",
       "      <td>...</td>\n",
       "      <td>...</td>\n",
       "      <td>...</td>\n",
       "      <td>...</td>\n",
       "      <td>...</td>\n",
       "      <td>...</td>\n",
       "      <td>...</td>\n",
       "      <td>...</td>\n",
       "    </tr>\n",
       "    <tr>\n",
       "      <th>10</th>\n",
       "      <td>15.0</td>\n",
       "      <td>8</td>\n",
       "      <td>383.0</td>\n",
       "      <td>170.0</td>\n",
       "      <td>3563</td>\n",
       "      <td>10.0</td>\n",
       "      <td>70</td>\n",
       "      <td>usa</td>\n",
       "      <td>dodge challenger se</td>\n",
       "    </tr>\n",
       "    <tr>\n",
       "      <th>202</th>\n",
       "      <td>17.5</td>\n",
       "      <td>6</td>\n",
       "      <td>258.0</td>\n",
       "      <td>95.0</td>\n",
       "      <td>3193</td>\n",
       "      <td>17.8</td>\n",
       "      <td>76</td>\n",
       "      <td>usa</td>\n",
       "      <td>amc pacer d/l</td>\n",
       "    </tr>\n",
       "    <tr>\n",
       "      <th>55</th>\n",
       "      <td>27.0</td>\n",
       "      <td>4</td>\n",
       "      <td>97.0</td>\n",
       "      <td>60.0</td>\n",
       "      <td>1834</td>\n",
       "      <td>19.0</td>\n",
       "      <td>71</td>\n",
       "      <td>europe</td>\n",
       "      <td>volkswagen model 111</td>\n",
       "    </tr>\n",
       "    <tr>\n",
       "      <th>58</th>\n",
       "      <td>25.0</td>\n",
       "      <td>4</td>\n",
       "      <td>97.5</td>\n",
       "      <td>80.0</td>\n",
       "      <td>2126</td>\n",
       "      <td>17.0</td>\n",
       "      <td>72</td>\n",
       "      <td>usa</td>\n",
       "      <td>dodge colt hardtop</td>\n",
       "    </tr>\n",
       "    <tr>\n",
       "      <th>239</th>\n",
       "      <td>30.0</td>\n",
       "      <td>4</td>\n",
       "      <td>97.0</td>\n",
       "      <td>67.0</td>\n",
       "      <td>1985</td>\n",
       "      <td>16.4</td>\n",
       "      <td>77</td>\n",
       "      <td>japan</td>\n",
       "      <td>subaru dl</td>\n",
       "    </tr>\n",
       "  </tbody>\n",
       "</table>\n",
       "<p>118 rows × 9 columns</p>\n",
       "</div>"
      ],
      "text/plain": [
       "      mpg  cylinders  displacement  horsepower  weight  acceleration  \\\n",
       "239  30.0          4          97.0        67.0    1985          16.4   \n",
       "201  18.5          6         250.0       110.0    3645          16.2   \n",
       "103  11.0          8         400.0       150.0    4997          14.0   \n",
       "39   14.0          8         400.0       175.0    4464          11.5   \n",
       "293  31.9          4          89.0        71.0    1925          14.0   \n",
       "..    ...        ...           ...         ...     ...           ...   \n",
       "10   15.0          8         383.0       170.0    3563          10.0   \n",
       "202  17.5          6         258.0        95.0    3193          17.8   \n",
       "55   27.0          4          97.0        60.0    1834          19.0   \n",
       "58   25.0          4          97.5        80.0    2126          17.0   \n",
       "239  30.0          4          97.0        67.0    1985          16.4   \n",
       "\n",
       "     model_year  origin                       name  \n",
       "239          77   japan                  subaru dl  \n",
       "201          76     usa         pontiac ventura sj  \n",
       "103          73     usa           chevrolet impala  \n",
       "39           71     usa  pontiac catalina brougham  \n",
       "293          79  europe           vw rabbit custom  \n",
       "..          ...     ...                        ...  \n",
       "10           70     usa        dodge challenger se  \n",
       "202          76     usa              amc pacer d/l  \n",
       "55           71  europe       volkswagen model 111  \n",
       "58           72     usa         dodge colt hardtop  \n",
       "239          77   japan                  subaru dl  \n",
       "\n",
       "[118 rows x 9 columns]"
      ]
     },
     "execution_count": 18,
     "metadata": {},
     "output_type": "execute_result"
    }
   ],
   "source": [
    "sample_car = df.sample(frac=0.3,replace=True)\n",
    "sample_car"
   ]
  },
  {
   "cell_type": "code",
   "execution_count": 19,
   "metadata": {},
   "outputs": [
    {
     "name": "stdout",
     "output_type": "stream",
     "text": [
      "Pearson: PearsonRResult(statistic=-0.7216468007291635, pvalue=3.009276427821484e-20)\n"
     ]
    }
   ],
   "source": [
    "print(\"Pearson:\",pearsonr(sample_car.horsepower, sample_car.acceleration))"
   ]
  },
  {
   "cell_type": "code",
   "execution_count": 24,
   "metadata": {},
   "outputs": [],
   "source": [
    "#Define a bootstrap function:\n",
    "def bootstrap_pearson(sample_car):\n",
    "    \n",
    "    bootstrap_cor_list = []\n",
    "    \n",
    "    for i in range(10000):\n",
    "        #generate a re-sample with the original sample size, with replacement\n",
    "        subsample = sample_car.sample(len(sample), replace=True)\n",
    "        \n",
    "        #compute correlation\n",
    "        sample_cor = pearsonr(subsample.horsepower, subsample.acceleration)[0]\n",
    "\n",
    "        bootstrap_cor_list.append(sample_cor)\n",
    "    \n",
    "    #Get the lower and upper bound for the middle 95%:\n",
    "    percentile_CI = [np.percentile(bootstrap_cor_list, 2.5), \n",
    "          np.percentile(bootstrap_cor_list, 97.5)]\n",
    "    \n",
    "    return percentile_CI\n",
    "    "
   ]
  },
  {
   "cell_type": "code",
   "execution_count": 25,
   "metadata": {},
   "outputs": [
    {
     "name": "stdout",
     "output_type": "stream",
     "text": [
      "[-0.8345225981476501, -0.5797997615643876]\n"
     ]
    }
   ],
   "source": [
    "ci = bootstrap_pearson(sample_car)\n",
    "\n",
    "print(ci)"
   ]
  },
  {
   "cell_type": "code",
   "execution_count": 33,
   "metadata": {},
   "outputs": [
    {
     "name": "stdout",
     "output_type": "stream",
     "text": [
      "95% confidence interval of the Pearson correlation coefficient is:[-0.83 to -0.58]\n"
     ]
    }
   ],
   "source": [
    "print(\"95% confidence interval of the Pearson correlation coefficient is:[\" + str(np.round(ci[0],2)) + \" to \"\n",
    "      + str(np.round(ci[1],2)) + \"]\")\n"
   ]
  },
  {
   "cell_type": "code",
   "execution_count": 36,
   "metadata": {},
   "outputs": [
    {
     "name": "stdout",
     "output_type": "stream",
     "text": [
      "We are 95% confident that the true correlation of HP and ACC in the population is between: -0.83 and -0.58\n"
     ]
    }
   ],
   "source": [
    "print(\"We are 95% confident that the true correlation of HP and ACC in the population is between: \" \n",
    "      + str(np.round(ci[0],2)) + \" and \"\n",
    "      + str(np.round(ci[1],2)))\n"
   ]
  },
  {
   "cell_type": "markdown",
   "metadata": {},
   "source": [
    "This means that if we were to take numerous samples and build a confidence interval from each of them, approximately 95% of those intervals would contain the true parameter value."
   ]
  },
  {
   "cell_type": "markdown",
   "metadata": {},
   "source": [
    "In this case, the CI doesn't cover 0, which means population correlation coefficient is not zero. So the negative trend we observe from the sample isn't just becuase of the sampling variation but because the true correlation is negative in the population."
   ]
  },
  {
   "cell_type": "code",
   "execution_count": null,
   "metadata": {},
   "outputs": [],
   "source": []
  },
  {
   "cell_type": "code",
   "execution_count": null,
   "metadata": {},
   "outputs": [],
   "source": []
  }
 ],
 "metadata": {
  "kernelspec": {
   "display_name": "Python 3 (ipykernel)",
   "language": "python",
   "name": "python3"
  },
  "language_info": {
   "codemirror_mode": {
    "name": "ipython",
    "version": 3
   },
   "file_extension": ".py",
   "mimetype": "text/x-python",
   "name": "python",
   "nbconvert_exporter": "python",
   "pygments_lexer": "ipython3",
   "version": "3.11.9"
  }
 },
 "nbformat": 4,
 "nbformat_minor": 4
}
