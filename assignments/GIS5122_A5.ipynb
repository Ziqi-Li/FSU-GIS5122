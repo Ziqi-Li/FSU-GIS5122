{
  "nbformat": 4,
  "nbformat_minor": 0,
  "metadata": {
    "colab": {
      "provenance": [],
      "mount_file_id": "1KP0_8_IFT6-7XUF8_PpgmtdTBcn0bS_c",
      "authorship_tag": "ABX9TyNbRkAR5lQXAaBShOkpxs2/",
      "include_colab_link": true
    },
    "kernelspec": {
      "name": "python3",
      "display_name": "Python 3"
    },
    "language_info": {
      "name": "python"
    }
  },
  "cells": [
    {
      "cell_type": "markdown",
      "metadata": {
        "id": "view-in-github",
        "colab_type": "text"
      },
      "source": [
        "<a href=\"https://colab.research.google.com/github/Ziqi-Li/GIS5122/blob/main/assignments/GIS5122_A5.ipynb\" target=\"_parent\"><img src=\"https://colab.research.google.com/assets/colab-badge.svg\" alt=\"Open In Colab\"/></a>"
      ]
    },
    {
      "cell_type": "markdown",
      "source": [
        "# Assignment 5\n",
        "**Due date/time:** Apr 9th Tue 23:59pm\n",
        "\n",
        "**Instruction**: Make a copy of this notebook and read through the questions and instructions. Write down code/text to perform the analysis.\n",
        "\n",
        "**Submission**: After you finish working on this notebook, click File->Download->Download .ipynb\n",
        "\n",
        "Please submit a notebook named A5_your_name.ipynb on Canvas."
      ],
      "metadata": {
        "id": "sqjesvPPEket"
      }
    },
    {
      "cell_type": "markdown",
      "source": [
        "## Detailed instructions:\n",
        "\n",
        "In this assignment, you will practice building Multi-level Models (MLM).\n",
        "\n",
        "We will be re-using our data and model specifications from Assignment 3 and 4. For the same set of dependent variable (y) and independent variables (X) you will build 3 models.\n",
        "\n",
        "\n",
        "**Model 1 (30%):** Fit an MLM with varying intercept only (no Xs) as follows\n",
        "\n",
        "`model1 = Lmer('y ~ 1 + (1|state)', data=your_data)`\n",
        "\n",
        "Describe your model output and calculate the Variance Partition Coefficient (VPC), explain your results.\n",
        "\n",
        "**Model 2 (30%):** Fit an MLM with varying intercept and your independent variables as fixed effects as follows\n",
        "\n",
        "`model2 = Lmer('y ~ 1 + x1 + x2 + ...xj + (1|state)', data=your_data)`\n",
        "\n",
        "Map your state-level random effect for the intercept, and explain your MLM model output.\n",
        "\n",
        "**Model 3 (30%):** Fit an MLM with varying intercept and both fixed and random effect for your independent variables (a varying intercept + slope model) as follows:\n",
        "\n",
        "`model3 = Lmer('y ~ 1 + x1 + x2 + ...xj + (1 + x1 + x2 + ...xj|state)', data=your_data)`\n",
        "\n",
        "Map all of your state-level random effects, and explain your MLM model output.\n",
        "\n",
        "**Final comparison (10%):** compare AIC, conditional and marginal R2 in three models.\n",
        "\n",
        "Note: replace x1, x2... in the model with the column name of your independent variable.\n"
      ],
      "metadata": {
        "id": "nlUts3saotCm"
      }
    },
    {
      "cell_type": "code",
      "source": [
        "from pymer4.models import Lmer"
      ],
      "metadata": {
        "id": "dYrEpzmgqOcC"
      },
      "execution_count": null,
      "outputs": []
    },
    {
      "cell_type": "code",
      "source": [
        "import numpy as np\n",
        "import matplotlib.pyplot as plt\n",
        "import geopandas as gpd\n",
        "import pandas as pd"
      ],
      "metadata": {
        "id": "_PICHtnc03s_"
      },
      "execution_count": null,
      "outputs": []
    },
    {
      "cell_type": "markdown",
      "source": [
        "Code to read in data and merge them into one final `GeoDataFrame`."
      ],
      "metadata": {
        "id": "4DoUQPHTy039"
      }
    },
    {
      "cell_type": "code",
      "source": [
        "health_url = \"https://raw.github.com/Ziqi-Li/GIS5122/main/data/cdc_health_county.csv\"\n",
        "health = pd.read_csv(health_url)"
      ],
      "metadata": {
        "id": "BZCRG_jmy0Zx"
      },
      "execution_count": null,
      "outputs": []
    },
    {
      "cell_type": "code",
      "source": [
        "socio_demo_url = \"https://raw.github.com/Ziqi-Li/GIS5122/main/data/acs_2019.csv\"\n",
        "socio_demo = pd.read_csv(socio_demo_url)"
      ],
      "metadata": {
        "id": "v1KGhaV1M4FG"
      },
      "execution_count": null,
      "outputs": []
    },
    {
      "cell_type": "code",
      "source": [
        "counties_url = \"https://raw.github.com/Ziqi-Li/gis5122/master/data/us_counties.geojson\"\n",
        "counties = gpd.read_file(counties_url)"
      ],
      "metadata": {
        "id": "flgMh4FA2R7k"
      },
      "execution_count": null,
      "outputs": []
    },
    {
      "cell_type": "code",
      "source": [
        "socio_demo_health = pd.merge(socio_demo, health, left_on = \"county_id\", right_on = \"LocationID\")"
      ],
      "metadata": {
        "id": "APDrEO1kzfDy"
      },
      "execution_count": null,
      "outputs": []
    },
    {
      "cell_type": "code",
      "source": [
        "gdf_socio_demo_health = pd.merge(counties, socio_demo_health, on = \"county_id\")"
      ],
      "metadata": {
        "id": "v6Rn9zWTzfG8"
      },
      "execution_count": null,
      "outputs": []
    },
    {
      "cell_type": "markdown",
      "source": [
        "Your code will start here, and your analysis will be based on this GeoDataFrame `gdf_income_health`."
      ],
      "metadata": {
        "id": "IOSNbM0q2vi9"
      }
    },
    {
      "cell_type": "code",
      "source": [],
      "metadata": {
        "id": "tbgq4cLmzfOV"
      },
      "execution_count": null,
      "outputs": []
    },
    {
      "cell_type": "code",
      "source": [],
      "metadata": {
        "id": "Y5vxJcVpzfSJ"
      },
      "execution_count": null,
      "outputs": []
    },
    {
      "cell_type": "code",
      "source": [],
      "metadata": {
        "id": "1TpC9QXnM4HY"
      },
      "execution_count": null,
      "outputs": []
    }
  ]
}