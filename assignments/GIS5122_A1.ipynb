{
  "nbformat": 4,
  "nbformat_minor": 0,
  "metadata": {
    "colab": {
      "provenance": [],
      "authorship_tag": "ABX9TyNkTLd9ZafH86bipsOo5Qwz",
      "include_colab_link": true
    },
    "kernelspec": {
      "name": "python3",
      "display_name": "Python 3"
    },
    "language_info": {
      "name": "python"
    }
  },
  "cells": [
    {
      "cell_type": "markdown",
      "metadata": {
        "id": "view-in-github",
        "colab_type": "text"
      },
      "source": [
        "<a href=\"https://colab.research.google.com/github/Ziqi-Li/GIS5122/blob/main/assignments/GIS5122_A1.ipynb\" target=\"_parent\"><img src=\"https://colab.research.google.com/assets/colab-badge.svg\" alt=\"Open In Colab\"/></a>"
      ]
    },
    {
      "cell_type": "markdown",
      "source": [
        "# GIS5122 Assignment 1\n",
        "Due date/time: Feb 9 Friday 23:59pm\n",
        "\n",
        "**Instruction**: Make a copy of this notebook and read through the questions and descriptions. Write down code/text to perform the analysis.\n",
        "\n",
        "**Submission**: After you finish working on this notebook, click File->Download->Download .ipynb\n",
        "\n",
        "Please submit this notebook renamed as A1_your_name.ipynb on Canvas."
      ],
      "metadata": {
        "id": "hFlbC2M55zTn"
      }
    },
    {
      "cell_type": "markdown",
      "source": [
        "## Detailed instructions:\n",
        "In this assignment, you will practice concepts we learned in the statistical inference classes. You will be given two real life datasets:\n",
        "\n",
        "1. A county level health data obtained from [CDC](https://www.cdc.gov/places/index.html). This data has all the counties in the US (~3,100). You can find the explanations to the columns in the data [here](https://raw.githubusercontent.com/Ziqi-Li/GIS5122/main/data/cdc_county_health.txt).\n",
        "2. A county level median household income data obtained from the American Community Survey. This data is only for Florida.\n",
        "\n",
        "Below are specific tasks you need to perform and their credits (total 100%):\n",
        "1. Merge the two datasets into a single DataFrame containing both health data and income data for Florida only. The common ID that can be used for merging is `LocationID` in the health data and `Geo_ID` in the income data.\n",
        "2. Choose one health outcome variable and calculate the Pearson's correlation coefficient between that health variable and the income variable. Report the coefficient and its p-value. (20%)\n",
        "3. Use the bootstrap method to calculate a 95% confidence interval for the correlation coefficient. Provide a clear interpretation of this confidence interval. (40%)\n",
        "4. Perform a permutation test on the correlation coefficient and report its simulated p-value from this permutation test. Compare the result with the p-value obtained in step 2 and provide a clear interpretation of this p-value. (40%)\n",
        "\n",
        "\n",
        "For both bootstrap and permutation test, you can go with 10,000 iterations.\n"
      ],
      "metadata": {
        "id": "2bq7TCVP6MRH"
      }
    },
    {
      "cell_type": "markdown",
      "source": [
        "Below is the code that can help you get started:"
      ],
      "metadata": {
        "id": "evysvoZY-H1w"
      }
    },
    {
      "cell_type": "code",
      "source": [
        "import pandas as pd"
      ],
      "metadata": {
        "id": "xIQW_wbP50Nc"
      },
      "execution_count": 2,
      "outputs": []
    },
    {
      "cell_type": "code",
      "source": [
        "health_url = \"https://raw.githubusercontent.com/Ziqi-Li/GIS5122/main/data/cdc_health_county.csv\"\n",
        "health = pd.read_csv(health_url)"
      ],
      "metadata": {
        "id": "hP2NudaT5evJ"
      },
      "execution_count": 3,
      "outputs": []
    },
    {
      "cell_type": "code",
      "source": [
        "income_url = \"https://raw.githubusercontent.com/Ziqi-Li/GIS5122/main/data/Florida_counties_median_income_2021.csv\"\n",
        "income = pd.read_csv(income_url)"
      ],
      "metadata": {
        "id": "2Fj0ELt55k_1"
      },
      "execution_count": 4,
      "outputs": []
    },
    {
      "cell_type": "code",
      "source": [],
      "metadata": {
        "id": "1xIa8vjH-PWq"
      },
      "execution_count": null,
      "outputs": []
    },
    {
      "cell_type": "code",
      "source": [],
      "metadata": {
        "id": "8Ce1SO-t-PY4"
      },
      "execution_count": null,
      "outputs": []
    },
    {
      "cell_type": "code",
      "source": [],
      "metadata": {
        "id": "JplDs5Y6-PbI"
      },
      "execution_count": null,
      "outputs": []
    },
    {
      "cell_type": "code",
      "source": [],
      "metadata": {
        "id": "OSnIgW4M-PdQ"
      },
      "execution_count": null,
      "outputs": []
    },
    {
      "cell_type": "code",
      "source": [],
      "metadata": {
        "id": "6jpw1v39-PfX"
      },
      "execution_count": null,
      "outputs": []
    },
    {
      "cell_type": "code",
      "source": [],
      "metadata": {
        "id": "6I8urEUS6_lm"
      },
      "execution_count": null,
      "outputs": []
    }
  ]
}