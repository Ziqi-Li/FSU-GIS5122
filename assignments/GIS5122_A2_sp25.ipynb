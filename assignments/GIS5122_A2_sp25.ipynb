{
  "nbformat": 4,
  "nbformat_minor": 0,
  "metadata": {
    "colab": {
      "provenance": [],
      "include_colab_link": true
    },
    "kernelspec": {
      "name": "python3",
      "display_name": "Python 3"
    },
    "language_info": {
      "name": "python"
    }
  },
  "cells": [
    {
      "cell_type": "markdown",
      "metadata": {
        "id": "view-in-github",
        "colab_type": "text"
      },
      "source": [
        "<a href=\"https://colab.research.google.com/github/Ziqi-Li/GIS5122/blob/main/assignments/GIS5122_A2_sp25.ipynb\" target=\"_parent\"><img src=\"https://colab.research.google.com/assets/colab-badge.svg\" alt=\"Open In Colab\"/></a>"
      ]
    },
    {
      "cell_type": "markdown",
      "source": [
        "# Assignment 2\n",
        "**Due date/time:** Feb 14th Fri 23:59pm\n",
        "\n",
        "**Instruction**: Make a copy of this notebook and read through the questions and instructions. Write down code/text to perform the analysis.\n",
        "\n",
        "**Submission**: After you finish working on this notebook, click File->Download->Download .ipynb\n",
        "\n",
        "Please submit a notebook named A2_your_name.ipynb on Canvas.\n",
        "\n",
        "**Environment**: Feel free to use either your local python environment or Google Colab."
      ],
      "metadata": {
        "id": "sqjesvPPEket"
      }
    },
    {
      "cell_type": "markdown",
      "source": [
        "## Detailed instructions:\n",
        "\n",
        "In this assignment, we will practie on model selection and spatial autocorrelation.\n",
        "\n",
        "**Note**: From this assignment and onward, if you are interested in performing your analysis using your own data (e.g., you may have a dataset from a research project), you are very encouraged to do so. But it would be great if you let me know in advance.\n",
        "\n",
        "We will be using a county-level health data `health` obtained from [CDC](https://www.cdc.gov/places/index.html) to investigate [Social Determinants of Health](https://www.cdc.gov/about/sdoh/index.html). You can find the explanations to the columns in the data [here](https://raw.githubusercontent.com/Ziqi-Li/GIS5122/main/data/cdc_county_health.txt).\n",
        "\n",
        "You are also given a county-level socio-demographic dataset `socio_demo` obtaiend from the American Community Survey (2015-2019) dataset. Variable name explanations can be seen [here](https://github.com/Ziqi-Li/GIS5122/blob/main/data/acs_2019_variables.txt).\n",
        "\n",
        "The objective is to identify socio-demographic factors that will explain health outcome inequality in the US, by estimating a linear regression model and examine its assumptions and interpretations.\n",
        "\n",
        "You are also given a county-level boundary file `counties` for making necessary maps.\n",
        "\n",
        "Below are specific tasks you need to perform and their credits (total 100%):\n",
        "1. Create a `GeoDataFrame` by merging the `health`, the `socio_demo` and the `counties` boundary together. Code is given.\n",
        "2. Choose **ONE** health outcome of your interest. Make a map of the health outcome to show its spatial distribution. (**5%**)\n",
        "3. Build a linear regression model (OLS) with the health outcome as the dependent variable (y), and some socio-demographic variables as the predictor variables (X). You are supposed to tweak the model specification based on your own understanding of the potential relationships.\n",
        "4. Calculate VIF values to make sure no obvious multicolinearity presents (drop predictors with VIF > 10 sequentially). (**15%**)\n",
        "5. Create a residual vs. fit plot and a Q-Q plot to check model residual assumptions. Describe whether the patterns in these plots noticeably violate any of the LINE regression assumptions. (**20%**)\n",
        "6. Report and interpret your linear regression results regarding model R2, regression coefficients, and statistical significance of the coefficients. (**40%**)\n",
        "7. Make a map of the residuals to examine spatial autocorrelation. Then compute Moran's I value of the residuals based on Queen-contiguity spatial weights matrix. Interpret the Moran's I value and its statistical significance. (**20%**)\n",
        "\n"
      ],
      "metadata": {
        "id": "nlUts3saotCm"
      }
    },
    {
      "cell_type": "markdown",
      "source": [
        "You may need to install these two packages for Moran's I."
      ],
      "metadata": {
        "id": "IEgybfZozCv4"
      }
    },
    {
      "cell_type": "code",
      "source": [
        "pip install -q libpysal"
      ],
      "metadata": {
        "id": "_PICHtnc03s_",
        "colab": {
          "base_uri": "https://localhost:8080/"
        },
        "outputId": "8569106d-9f18-45a9-c368-becfdb60b22e"
      },
      "execution_count": 1,
      "outputs": [
        {
          "output_type": "stream",
          "name": "stdout",
          "text": [
            "\u001b[?25l   \u001b[90m━━━━━━━━━━━━━━━━━━━━━━━━━━━━━━━━━━━━━━━━\u001b[0m \u001b[32m0.0/2.8 MB\u001b[0m \u001b[31m?\u001b[0m eta \u001b[36m-:--:--\u001b[0m\r\u001b[2K   \u001b[91m━━━━━━━━━━━━━━━\u001b[0m\u001b[90m╺\u001b[0m\u001b[90m━━━━━━━━━━━━━━━━━━━━━━━━\u001b[0m \u001b[32m1.1/2.8 MB\u001b[0m \u001b[31m39.9 MB/s\u001b[0m eta \u001b[36m0:00:01\u001b[0m\r\u001b[2K   \u001b[91m━━━━━━━━━━━━━━━━━━━━━━━━━━━━━━━━━━━━━━━\u001b[0m\u001b[91m╸\u001b[0m \u001b[32m2.8/2.8 MB\u001b[0m \u001b[31m52.2 MB/s\u001b[0m eta \u001b[36m0:00:01\u001b[0m\r\u001b[2K   \u001b[91m━━━━━━━━━━━━━━━━━━━━━━━━━━━━━━━━━━━━━━━\u001b[0m\u001b[91m╸\u001b[0m \u001b[32m2.8/2.8 MB\u001b[0m \u001b[31m52.2 MB/s\u001b[0m eta \u001b[36m0:00:01\u001b[0m\r\u001b[2K   \u001b[90m━━━━━━━━━━━━━━━━━━━━━━━━━━━━━━━━━━━━━━━━\u001b[0m \u001b[32m2.8/2.8 MB\u001b[0m \u001b[31m20.2 MB/s\u001b[0m eta \u001b[36m0:00:00\u001b[0m\n",
            "\u001b[?25h"
          ]
        }
      ]
    },
    {
      "cell_type": "code",
      "source": [
        "pip install -q splot"
      ],
      "metadata": {
        "id": "cenqjqJRrzeG",
        "colab": {
          "base_uri": "https://localhost:8080/"
        },
        "outputId": "94313fd3-4579-4440-adc4-175cf3c26d76"
      },
      "execution_count": 2,
      "outputs": [
        {
          "output_type": "stream",
          "name": "stdout",
          "text": [
            "\u001b[?25l   \u001b[90m━━━━━━━━━━━━━━━━━━━━━━━━━━━━━━━━━━━━━━━━\u001b[0m \u001b[32m0.0/135.4 kB\u001b[0m \u001b[31m?\u001b[0m eta \u001b[36m-:--:--\u001b[0m\r\u001b[2K   \u001b[90m━━━━━━━━━━━━━━━━━━━━━━━━━━━━━━━━━━━━━━━━\u001b[0m \u001b[32m135.4/135.4 kB\u001b[0m \u001b[31m6.9 MB/s\u001b[0m eta \u001b[36m0:00:00\u001b[0m\n",
            "\u001b[?25h\u001b[?25l   \u001b[90m━━━━━━━━━━━━━━━━━━━━━━━━━━━━━━━━━━━━━━━━\u001b[0m \u001b[32m0.0/61.3 kB\u001b[0m \u001b[31m?\u001b[0m eta \u001b[36m-:--:--\u001b[0m\r\u001b[2K   \u001b[90m━━━━━━━━━━━━━━━━━━━━━━━━━━━━━━━━━━━━━━━━\u001b[0m \u001b[32m61.3/61.3 kB\u001b[0m \u001b[31m2.2 MB/s\u001b[0m eta \u001b[36m0:00:00\u001b[0m\n",
            "\u001b[2K   \u001b[90m━━━━━━━━━━━━━━━━━━━━━━━━━━━━━━━━━━━━━━━━\u001b[0m \u001b[32m59.1/59.1 kB\u001b[0m \u001b[31m2.2 MB/s\u001b[0m eta \u001b[36m0:00:00\u001b[0m\n",
            "\u001b[2K   \u001b[90m━━━━━━━━━━━━━━━━━━━━━━━━━━━━━━━━━━━━━━━━\u001b[0m \u001b[32m379.9/379.9 kB\u001b[0m \u001b[31m5.5 MB/s\u001b[0m eta \u001b[36m0:00:00\u001b[0m\n",
            "\u001b[2K   \u001b[90m━━━━━━━━━━━━━━━━━━━━━━━━━━━━━━━━━━━━━━━━\u001b[0m \u001b[32m215.4/215.4 kB\u001b[0m \u001b[31m6.8 MB/s\u001b[0m eta \u001b[36m0:00:00\u001b[0m\n",
            "\u001b[?25h"
          ]
        }
      ]
    },
    {
      "cell_type": "markdown",
      "source": [
        "Import all the packages needed to run the analysis"
      ],
      "metadata": {
        "id": "Z14JaGaIzMMK"
      }
    },
    {
      "cell_type": "code",
      "source": [
        "import geopandas as gpd\n",
        "import seaborn as sns\n",
        "import pandas as pd\n",
        "import matplotlib.pyplot as plt\n",
        "import numpy as np\n",
        "import statsmodels.api as sm\n",
        "\n",
        "from libpysal.weights import Queen\n",
        "from splot.esda import plot_moran\n",
        "from esda.moran import Moran\n",
        "import spreg"
      ],
      "metadata": {
        "id": "4JFPjpkorrhr"
      },
      "execution_count": 3,
      "outputs": []
    },
    {
      "cell_type": "markdown",
      "source": [
        "Code to read in data and merge them into one final `GeoDataFrame`."
      ],
      "metadata": {
        "id": "4DoUQPHTy039"
      }
    },
    {
      "cell_type": "code",
      "source": [
        "health_url = \"https://raw.github.com/Ziqi-Li/GIS5122/main/data/cdc_health_county.csv\"\n",
        "health = pd.read_csv(health_url)"
      ],
      "metadata": {
        "id": "BZCRG_jmy0Zx"
      },
      "execution_count": 4,
      "outputs": []
    },
    {
      "cell_type": "code",
      "source": [
        "socio_demo_url = \"https://raw.github.com/Ziqi-Li/GIS5122/main/data/acs_2019.csv\"\n",
        "socio_demo = pd.read_csv(socio_demo_url)"
      ],
      "metadata": {
        "id": "v1KGhaV1M4FG"
      },
      "execution_count": 5,
      "outputs": []
    },
    {
      "cell_type": "code",
      "source": [
        "counties_url = \"https://raw.github.com/Ziqi-Li/gis5122/master/data/us_counties.geojson\"\n",
        "counties = gpd.read_file(counties_url)"
      ],
      "metadata": {
        "id": "flgMh4FA2R7k"
      },
      "execution_count": 6,
      "outputs": []
    },
    {
      "cell_type": "code",
      "source": [
        "income_health = pd.merge(socio_demo, health, left_on = \"county_id\", right_on = \"LocationID\")"
      ],
      "metadata": {
        "id": "APDrEO1kzfDy"
      },
      "execution_count": 7,
      "outputs": []
    },
    {
      "cell_type": "code",
      "source": [
        "gdf_income_health = pd.merge(counties, income_health, on = \"county_id\")"
      ],
      "metadata": {
        "id": "v6Rn9zWTzfG8"
      },
      "execution_count": 8,
      "outputs": []
    },
    {
      "cell_type": "markdown",
      "source": [
        "Your code will start here, and your analysis will be based on this GeoDataFrame `gdf_income_health`."
      ],
      "metadata": {
        "id": "IOSNbM0q2vi9"
      }
    },
    {
      "cell_type": "code",
      "source": [],
      "metadata": {
        "id": "tbgq4cLmzfOV"
      },
      "execution_count": 8,
      "outputs": []
    },
    {
      "cell_type": "code",
      "source": [],
      "metadata": {
        "id": "Y5vxJcVpzfSJ"
      },
      "execution_count": 8,
      "outputs": []
    },
    {
      "cell_type": "code",
      "source": [],
      "metadata": {
        "id": "1TpC9QXnM4HY"
      },
      "execution_count": 8,
      "outputs": []
    }
  ]
}